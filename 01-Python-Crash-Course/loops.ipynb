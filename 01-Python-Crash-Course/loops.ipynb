{
 "cells": [
  {
   "cell_type": "markdown",
   "id": "a9c5c0e2",
   "metadata": {},
   "source": [
    "# *for loops"
   ]
  },
  {
   "cell_type": "code",
   "execution_count": 1,
   "id": "3e317532",
   "metadata": {},
   "outputs": [],
   "source": [
    "seq = [1,2,3,4,5]"
   ]
  },
  {
   "cell_type": "code",
   "execution_count": 2,
   "id": "aead988b",
   "metadata": {},
   "outputs": [
    {
     "name": "stdout",
     "output_type": "stream",
     "text": [
      "i am number 1\n",
      "i am number 2\n",
      "i am number 3\n",
      "i am number 4\n",
      "i am number 5\n"
     ]
    }
   ],
   "source": [
    "for num in seq:\n",
    "    print(\"i am number {}\".format(num))"
   ]
  },
  {
   "cell_type": "markdown",
   "id": "cffccf01",
   "metadata": {},
   "source": [
    "# *while loops"
   ]
  },
  {
   "cell_type": "code",
   "execution_count": 6,
   "id": "045ed464",
   "metadata": {},
   "outputs": [
    {
     "name": "stdout",
     "output_type": "stream",
     "text": [
      "hello my number 1\n",
      "hello my number 2\n",
      "hello my number 3\n",
      "hello my number 4\n"
     ]
    }
   ],
   "source": [
    "i = 1\n",
    "\n",
    "while i<5:\n",
    "    print(\"hello my number {}\".format(i))\n",
    "    i+=1\n",
    "    \n"
   ]
  },
  {
   "cell_type": "markdown",
   "id": "a6406b41",
   "metadata": {},
   "source": [
    "some usefull functions in python"
   ]
  },
  {
   "cell_type": "markdown",
   "id": "ce0ec506",
   "metadata": {},
   "source": [
    "# *Range()"
   ]
  },
  {
   "cell_type": "markdown",
   "id": "6d21460a",
   "metadata": {},
   "source": [
    "lets see the old tradional way of keeping a sequnce of characters in loops : "
   ]
  },
  {
   "cell_type": "code",
   "execution_count": 8,
   "id": "3e96d431",
   "metadata": {},
   "outputs": [
    {
     "name": "stdout",
     "output_type": "stream",
     "text": [
      "1\n",
      "2\n",
      "3\n",
      "4\n",
      "5\n"
     ]
    }
   ],
   "source": [
    "for num in seq:\n",
    "    print(num)"
   ]
  },
  {
   "cell_type": "markdown",
   "id": "a8c9126f",
   "metadata": {},
   "source": [
    "instead we use a range function. Which is like a generator of numerical values\n"
   ]
  },
  {
   "cell_type": "code",
   "execution_count": 11,
   "id": "1e2edfc5",
   "metadata": {},
   "outputs": [
    {
     "name": "stdout",
     "output_type": "stream",
     "text": [
      "1 is my lucky number \n",
      "2 is my lucky number \n",
      "3 is my lucky number \n",
      "4 is my lucky number \n",
      "5 is my lucky number \n",
      "6 is my lucky number \n",
      "7 is my lucky number \n",
      "8 is my lucky number \n",
      "9 is my lucky number \n"
     ]
    }
   ],
   "source": [
    "for num in range(1,10):\n",
    "    print(\"{} is my lucky number \".format(num))"
   ]
  },
  {
   "cell_type": "code",
   "execution_count": 10,
   "id": "436009f3",
   "metadata": {},
   "outputs": [
    {
     "data": {
      "text/plain": [
       "[0, 1, 2, 3, 4, 5, 6, 7, 8, 9]"
      ]
     },
     "execution_count": 10,
     "metadata": {},
     "output_type": "execute_result"
    }
   ],
   "source": [
    "list(range(10))"
   ]
  },
  {
   "cell_type": "markdown",
   "id": "b38b3349",
   "metadata": {},
   "source": [
    "# List Comprehension"
   ]
  },
  {
   "cell_type": "markdown",
   "id": "61c47917",
   "metadata": {},
   "source": [
    "this will help or allow you to save a bunch of writting"
   ]
  },
  {
   "cell_type": "code",
   "execution_count": 12,
   "id": "47202b51",
   "metadata": {},
   "outputs": [],
   "source": [
    "x = [1,2,3,4,5]"
   ]
  },
  {
   "cell_type": "markdown",
   "id": "403e6ba0",
   "metadata": {},
   "source": [
    "here i want to produce a list with squared values of the original list of x"
   ]
  },
  {
   "cell_type": "code",
   "execution_count": 14,
   "id": "c61a972b",
   "metadata": {},
   "outputs": [],
   "source": [
    "out = []\n",
    "\n",
    "for num in x:\n",
    "    out.append(num**2)"
   ]
  },
  {
   "cell_type": "code",
   "execution_count": 15,
   "id": "9160e07e",
   "metadata": {},
   "outputs": [
    {
     "name": "stdout",
     "output_type": "stream",
     "text": [
      "[1, 4, 9, 16, 25]\n"
     ]
    }
   ],
   "source": [
    "print(out)"
   ]
  },
  {
   "cell_type": "markdown",
   "id": "1edc693a",
   "metadata": {},
   "source": [
    "Now we're going to translate the above procedures by implementing a list comprehension"
   ]
  },
  {
   "cell_type": "code",
   "execution_count": 16,
   "id": "916c0b27",
   "metadata": {},
   "outputs": [
    {
     "data": {
      "text/plain": [
       "[1, 4, 9, 16, 25]"
      ]
     },
     "execution_count": 16,
     "metadata": {},
     "output_type": "execute_result"
    }
   ],
   "source": [
    "[num**2 for num in x]"
   ]
  },
  {
   "cell_type": "markdown",
   "id": "a9775edc",
   "metadata": {},
   "source": [
    "so simply we can put the above idea in the following manner"
   ]
  },
  {
   "cell_type": "code",
   "execution_count": 17,
   "id": "b5cb5338",
   "metadata": {},
   "outputs": [],
   "source": [
    "out = [num**2 for num in x]"
   ]
  },
  {
   "cell_type": "code",
   "execution_count": 18,
   "id": "b0820fc5",
   "metadata": {},
   "outputs": [
    {
     "name": "stdout",
     "output_type": "stream",
     "text": [
      "[1, 4, 9, 16, 25]\n"
     ]
    }
   ],
   "source": [
    "print(out)"
   ]
  },
  {
   "cell_type": "markdown",
   "id": "c5b37d6a",
   "metadata": {},
   "source": [
    "Hence all those two methods produce the same thing.But list comprehession will save more time for you "
   ]
  },
  {
   "cell_type": "markdown",
   "id": "f6f15158",
   "metadata": {},
   "source": [
    "\n",
    "\n",
    " "
   ]
  },
  {
   "cell_type": "markdown",
   "id": "7b284f5c",
   "metadata": {},
   "source": [
    "# functions"
   ]
  },
  {
   "cell_type": "raw",
   "id": "f33bfa6f",
   "metadata": {},
   "source": [
    "for the syntax\n",
    "    def function_name(parameters_1):\n",
    "        print(parameter_1)\n",
    "        \n",
    "To call the function for use, we use the following syntax\n",
    "=> function_name(parameter_1)"
   ]
  },
  {
   "cell_type": "code",
   "execution_count": 20,
   "id": "2dd876d7",
   "metadata": {},
   "outputs": [],
   "source": [
    "def my_func(par:str):\n",
    "    print(par)"
   ]
  },
  {
   "cell_type": "code",
   "execution_count": 21,
   "id": "291fac0a",
   "metadata": {},
   "outputs": [
    {
     "name": "stdout",
     "output_type": "stream",
     "text": [
      "hello\n"
     ]
    }
   ],
   "source": [
    "my_func(\"hello\")"
   ]
  },
  {
   "cell_type": "markdown",
   "id": "ccb20712",
   "metadata": {},
   "source": [
    "* Now lets create a function named square,that takes in a number and returns the square of that number"
   ]
  },
  {
   "cell_type": "code",
   "execution_count": 29,
   "id": "cdce7830",
   "metadata": {},
   "outputs": [],
   "source": [
    "def square(num):\n",
    "    \"\"\"\n",
    "    This is a doc multiline string\n",
    "    and this function squares a number passed a parameter\n",
    "    \"\"\"\n",
    "    return num**2"
   ]
  },
  {
   "cell_type": "code",
   "execution_count": 23,
   "id": "548b9907",
   "metadata": {},
   "outputs": [
    {
     "data": {
      "text/plain": [
       "36"
      ]
     },
     "execution_count": 23,
     "metadata": {},
     "output_type": "execute_result"
    }
   ],
   "source": [
    "square(6)"
   ]
  },
  {
   "cell_type": "code",
   "execution_count": 26,
   "id": "53d24ef2",
   "metadata": {},
   "outputs": [],
   "source": [
    "the_square_is = square(num)"
   ]
  },
  {
   "cell_type": "code",
   "execution_count": 27,
   "id": "573b9d6c",
   "metadata": {},
   "outputs": [
    {
     "name": "stdout",
     "output_type": "stream",
     "text": [
      "25\n"
     ]
    }
   ],
   "source": [
    "print(the_square_is)"
   ]
  },
  {
   "cell_type": "markdown",
   "id": "11ae6986",
   "metadata": {},
   "source": [
    "now if you want to see my documntation string you have to write, the function name and press shift + tab"
   ]
  },
  {
   "cell_type": "markdown",
   "id": "a50189e5",
   "metadata": {},
   "source": []
  },
  {
   "cell_type": "markdown",
   "id": "7edcefaf",
   "metadata": {},
   "source": [
    "# Map "
   ]
  },
  {
   "cell_type": "markdown",
   "id": "68347775",
   "metadata": {},
   "source": [
    "now lets begin by creating a function"
   ]
  },
  {
   "cell_type": "code",
   "execution_count": 31,
   "id": "3f508712",
   "metadata": {},
   "outputs": [],
   "source": [
    "def times2(var):\n",
    "    return var*2"
   ]
  },
  {
   "cell_type": "code",
   "execution_count": 32,
   "id": "5fb946aa",
   "metadata": {},
   "outputs": [
    {
     "data": {
      "text/plain": [
       "10"
      ]
     },
     "execution_count": 32,
     "metadata": {},
     "output_type": "execute_result"
    }
   ],
   "source": [
    "times2(5)"
   ]
  },
  {
   "cell_type": "markdown",
   "id": "83ce6502",
   "metadata": {},
   "source": [
    "*now for the map function/"
   ]
  },
  {
   "cell_type": "code",
   "execution_count": 33,
   "id": "e01a0ae9",
   "metadata": {},
   "outputs": [],
   "source": [
    "#creating a sequence named seq\n",
    "seq = [1,2,3,4,5]"
   ]
  },
  {
   "cell_type": "markdown",
   "id": "df10d51e",
   "metadata": {},
   "source": [
    "* map is a built in function in python, that allows you to save the step of initiializing a for loop and saving the results in another function"
   ]
  },
  {
   "cell_type": "code",
   "execution_count": 34,
   "id": "f5da327a",
   "metadata": {},
   "outputs": [
    {
     "data": {
      "text/plain": [
       "<map at 0x7f0d13b3bb80>"
      ]
     },
     "execution_count": 34,
     "metadata": {},
     "output_type": "execute_result"
    }
   ],
   "source": [
    "map(times2,seq)"
   ]
  },
  {
   "cell_type": "markdown",
   "id": "16d158e7",
   "metadata": {},
   "source": [
    "* the above out[34], describes that we have a map at location 0x7f0d13b3bb80"
   ]
  },
  {
   "cell_type": "markdown",
   "id": "f50314b6",
   "metadata": {},
   "source": [
    "now lets cast this into a list by using boilt in function "
   ]
  },
  {
   "cell_type": "code",
   "execution_count": 36,
   "id": "a7a4be26",
   "metadata": {},
   "outputs": [
    {
     "data": {
      "text/plain": [
       "[2, 4, 6, 8, 10]"
      ]
     },
     "execution_count": 36,
     "metadata": {},
     "output_type": "execute_result"
    }
   ],
   "source": [
    "list(map(times2,seq))"
   ]
  },
  {
   "cell_type": "markdown",
   "id": "aeb97c0e",
   "metadata": {},
   "source": [
    " \n",
    "    \n",
    "    \n",
    "    \n",
    "# Lambda Expression"
   ]
  },
  {
   "cell_type": "markdown",
   "id": "593bc797",
   "metadata": {},
   "source": [
    "    now here what we do is, we use the times2 function above to make a new function powered by lambda expression"
   ]
  },
  {
   "cell_type": "code",
   "execution_count": 38,
   "id": "0dae6afc",
   "metadata": {},
   "outputs": [
    {
     "data": {
      "text/plain": [
       "<function __main__.<lambda>(var)>"
      ]
     },
     "execution_count": 38,
     "metadata": {},
     "output_type": "execute_result"
    }
   ],
   "source": [
    "lambda var:var*2"
   ]
  },
  {
   "cell_type": "markdown",
   "id": "b099c3fe",
   "metadata": {},
   "source": [
    "* so we can assign the expression in a variable, then use the variable to act as ordinary calling of functions"
   ]
  },
  {
   "cell_type": "code",
   "execution_count": 39,
   "id": "0d523f2f",
   "metadata": {},
   "outputs": [],
   "source": [
    "t = lambda var:var*2"
   ]
  },
  {
   "cell_type": "code",
   "execution_count": 40,
   "id": "43215bab",
   "metadata": {},
   "outputs": [
    {
     "data": {
      "text/plain": [
       "8"
      ]
     },
     "execution_count": 40,
     "metadata": {},
     "output_type": "execute_result"
    }
   ],
   "source": [
    "t(4)"
   ]
  },
  {
   "cell_type": "markdown",
   "id": "51de130c",
   "metadata": {},
   "source": [
    "Lambda expressions are normally used in maps.."
   ]
  },
  {
   "cell_type": "code",
   "execution_count": 42,
   "id": "a018672c",
   "metadata": {},
   "outputs": [
    {
     "data": {
      "text/plain": [
       "[2, 4, 6, 8, 10]"
      ]
     },
     "execution_count": 42,
     "metadata": {},
     "output_type": "execute_result"
    }
   ],
   "source": [
    "list(map(lambda num:num*2,seq))"
   ]
  },
  {
   "cell_type": "code",
   "execution_count": null,
   "id": "d6a78d19",
   "metadata": {},
   "outputs": [],
   "source": []
  },
  {
   "cell_type": "code",
   "execution_count": null,
   "id": "149474fb",
   "metadata": {},
   "outputs": [],
   "source": []
  },
  {
   "cell_type": "markdown",
   "id": "48c8f3f9",
   "metadata": {},
   "source": [
    "\n",
    "#  filter() built in function "
   ]
  },
  {
   "cell_type": "markdown",
   "id": "a7175074",
   "metadata": {},
   "source": [
    "the filter function does have similar structure to the map function, but instead of using the function for evey single element in the list, this will filter them out instead"
   ]
  },
  {
   "cell_type": "code",
   "execution_count": 43,
   "id": "7d0401bd",
   "metadata": {},
   "outputs": [
    {
     "data": {
      "text/plain": [
       "<filter at 0x7f0d13b27ee0>"
      ]
     },
     "execution_count": 43,
     "metadata": {},
     "output_type": "execute_result"
    }
   ],
   "source": [
    "filter(lambda num:num%2 == 0,seq)"
   ]
  },
  {
   "cell_type": "markdown",
   "id": "081e728f",
   "metadata": {},
   "source": [
    "* In order to get the results back, we have to cast the filter function into a list"
   ]
  },
  {
   "cell_type": "code",
   "execution_count": 45,
   "id": "850f02ac",
   "metadata": {},
   "outputs": [
    {
     "data": {
      "text/plain": [
       "[2, 4]"
      ]
     },
     "execution_count": 45,
     "metadata": {},
     "output_type": "execute_result"
    }
   ],
   "source": [
    "list(filter(lambda num:num%2 == 0, seq))"
   ]
  },
  {
   "cell_type": "markdown",
   "id": "822d4dac",
   "metadata": {},
   "source": [
    "\n",
    "\n",
    "# Some String Methods"
   ]
  },
  {
   "cell_type": "markdown",
   "id": "a15204e9",
   "metadata": {},
   "source": [
    "consider the following string and the use of the methods within "
   ]
  },
  {
   "cell_type": "code",
   "execution_count": 47,
   "id": "23985149",
   "metadata": {},
   "outputs": [],
   "source": [
    "s = \"hello, my name is Joseph\""
   ]
  },
  {
   "cell_type": "markdown",
   "id": "fed2914f",
   "metadata": {},
   "source": [
    "* s.lower"
   ]
  },
  {
   "cell_type": "code",
   "execution_count": 50,
   "id": "606bddfa",
   "metadata": {},
   "outputs": [
    {
     "data": {
      "text/plain": [
       "'hello, my name is joseph'"
      ]
     },
     "execution_count": 50,
     "metadata": {},
     "output_type": "execute_result"
    }
   ],
   "source": [
    "s.lower()"
   ]
  },
  {
   "cell_type": "code",
   "execution_count": 51,
   "id": "88239900",
   "metadata": {},
   "outputs": [
    {
     "data": {
      "text/plain": [
       "'HELLO, MY NAME IS JOSEPH'"
      ]
     },
     "execution_count": 51,
     "metadata": {},
     "output_type": "execute_result"
    }
   ],
   "source": [
    "s.upper()"
   ]
  },
  {
   "cell_type": "code",
   "execution_count": 52,
   "id": "4e7dafa9",
   "metadata": {},
   "outputs": [
    {
     "data": {
      "text/plain": [
       "['hello,', 'my', 'name', 'is', 'Joseph']"
      ]
     },
     "execution_count": 52,
     "metadata": {},
     "output_type": "execute_result"
    }
   ],
   "source": [
    "s.split()"
   ]
  },
  {
   "cell_type": "code",
   "execution_count": 53,
   "id": "5d4c76cd",
   "metadata": {},
   "outputs": [],
   "source": [
    "tweet='Go sports #sports'"
   ]
  },
  {
   "cell_type": "code",
   "execution_count": 54,
   "id": "00ae7bd7",
   "metadata": {},
   "outputs": [
    {
     "data": {
      "text/plain": [
       "['Go', 'sports', '#sports']"
      ]
     },
     "execution_count": 54,
     "metadata": {},
     "output_type": "execute_result"
    }
   ],
   "source": [
    "tweet.split()"
   ]
  },
  {
   "cell_type": "code",
   "execution_count": 55,
   "id": "ad47398a",
   "metadata": {},
   "outputs": [
    {
     "data": {
      "text/plain": [
       "['Go sports ', 'sports']"
      ]
     },
     "execution_count": 55,
     "metadata": {},
     "output_type": "execute_result"
    }
   ],
   "source": [
    "tweet.split(\"#\")"
   ]
  },
  {
   "cell_type": "markdown",
   "id": "5acaac31",
   "metadata": {},
   "source": [
    "* consider a dictionary"
   ]
  },
  {
   "cell_type": "code",
   "execution_count": 57,
   "id": "ad23913d",
   "metadata": {},
   "outputs": [],
   "source": [
    "d = {\"k1\":1,\"k2\":2}"
   ]
  },
  {
   "cell_type": "code",
   "execution_count": 61,
   "id": "719d33f8",
   "metadata": {},
   "outputs": [
    {
     "data": {
      "text/plain": [
       "dict_keys(['k1', 'k2'])"
      ]
     },
     "execution_count": 61,
     "metadata": {},
     "output_type": "execute_result"
    }
   ],
   "source": [
    "d.keys()"
   ]
  },
  {
   "cell_type": "code",
   "execution_count": 62,
   "id": "219fd758",
   "metadata": {},
   "outputs": [
    {
     "data": {
      "text/plain": [
       "dict_items([('k1', 1), ('k2', 2)])"
      ]
     },
     "execution_count": 62,
     "metadata": {},
     "output_type": "execute_result"
    }
   ],
   "source": [
    "d.items()"
   ]
  },
  {
   "cell_type": "markdown",
   "id": "4182bfba",
   "metadata": {},
   "source": [
    "\n",
    "* some usefull methods for list "
   ]
  },
  {
   "cell_type": "code",
   "execution_count": 63,
   "id": "585c428d",
   "metadata": {},
   "outputs": [],
   "source": [
    "lst = [1,2,3]"
   ]
  },
  {
   "cell_type": "code",
   "execution_count": 64,
   "id": "24da475a",
   "metadata": {},
   "outputs": [
    {
     "data": {
      "text/plain": [
       "3"
      ]
     },
     "execution_count": 64,
     "metadata": {},
     "output_type": "execute_result"
    }
   ],
   "source": [
    "lst.pop() \n"
   ]
  },
  {
   "cell_type": "markdown",
   "id": "e154e44e",
   "metadata": {},
   "source": [
    "* The above function does remove the last value of the list and lets you even store it in a variable"
   ]
  },
  {
   "cell_type": "code",
   "execution_count": 66,
   "id": "483a2cdf",
   "metadata": {},
   "outputs": [],
   "source": [
    "lst.append(\"hello\")"
   ]
  },
  {
   "cell_type": "markdown",
   "id": "8f5c4a88",
   "metadata": {},
   "source": [
    "*the above method added an item into the list"
   ]
  },
  {
   "cell_type": "code",
   "execution_count": 68,
   "id": "a302abca",
   "metadata": {},
   "outputs": [],
   "source": [
    "string = lst.pop(2)"
   ]
  },
  {
   "cell_type": "code",
   "execution_count": 69,
   "id": "b5165207",
   "metadata": {},
   "outputs": [
    {
     "name": "stdout",
     "output_type": "stream",
     "text": [
      "hello\n"
     ]
    }
   ],
   "source": [
    "print(string)"
   ]
  },
  {
   "cell_type": "markdown",
   "id": "770641df",
   "metadata": {},
   "source": [
    "\n",
    "\n",
    "\n",
    "\n",
    "* methods in tuples"
   ]
  },
  {
   "cell_type": "code",
   "execution_count": 70,
   "id": "f6b8f3ef",
   "metadata": {},
   "outputs": [],
   "source": [
    "tup = [(2,4),(3,6),(3,1),(1,8)]"
   ]
  },
  {
   "cell_type": "code",
   "execution_count": 71,
   "id": "8a411163",
   "metadata": {},
   "outputs": [
    {
     "name": "stdout",
     "output_type": "stream",
     "text": [
      "2\n",
      "3\n",
      "3\n",
      "1\n"
     ]
    }
   ],
   "source": [
    "for (a,b) in tup:\n",
    "    print(a)"
   ]
  },
  {
   "cell_type": "markdown",
   "id": "e9bdae62",
   "metadata": {},
   "source": [
    "the above is called, tupple unpacking"
   ]
  },
  {
   "cell_type": "code",
   "execution_count": null,
   "id": "ab40aeac",
   "metadata": {},
   "outputs": [],
   "source": []
  }
 ],
 "metadata": {
  "kernelspec": {
   "display_name": "Python 3",
   "language": "python",
   "name": "python3"
  },
  "language_info": {
   "codemirror_mode": {
    "name": "ipython",
    "version": 3
   },
   "file_extension": ".py",
   "mimetype": "text/x-python",
   "name": "python",
   "nbconvert_exporter": "python",
   "pygments_lexer": "ipython3",
   "version": "3.8.8"
  }
 },
 "nbformat": 4,
 "nbformat_minor": 5
}
