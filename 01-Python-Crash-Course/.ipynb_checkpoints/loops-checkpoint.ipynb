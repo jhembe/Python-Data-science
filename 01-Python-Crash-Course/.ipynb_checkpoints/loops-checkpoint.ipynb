{
 "cells": [
  {
   "cell_type": "markdown",
   "id": "a9c5c0e2",
   "metadata": {},
   "source": [
    "# *for loops"
   ]
  },
  {
   "cell_type": "code",
   "execution_count": 1,
   "id": "3e317532",
   "metadata": {},
   "outputs": [],
   "source": [
    "seq = [1,2,3,4,5]"
   ]
  },
  {
   "cell_type": "code",
   "execution_count": 2,
   "id": "aead988b",
   "metadata": {},
   "outputs": [
    {
     "name": "stdout",
     "output_type": "stream",
     "text": [
      "i am number 1\n",
      "i am number 2\n",
      "i am number 3\n",
      "i am number 4\n",
      "i am number 5\n"
     ]
    }
   ],
   "source": [
    "for num in seq:\n",
    "    print(\"i am number {}\".format(num))"
   ]
  },
  {
   "cell_type": "markdown",
   "id": "cffccf01",
   "metadata": {},
   "source": [
    "# *while loops"
   ]
  },
  {
   "cell_type": "code",
   "execution_count": 6,
   "id": "045ed464",
   "metadata": {},
   "outputs": [
    {
     "name": "stdout",
     "output_type": "stream",
     "text": [
      "hello my number 1\n",
      "hello my number 2\n",
      "hello my number 3\n",
      "hello my number 4\n"
     ]
    }
   ],
   "source": [
    "i = 1\n",
    "\n",
    "while i<5:\n",
    "    print(\"hello my number {}\".format(i))\n",
    "    i+=1\n",
    "    \n"
   ]
  },
  {
   "cell_type": "markdown",
   "id": "018a715e",
   "metadata": {},
   "source": [
    "some usefull functions in python"
   ]
  },
  {
   "cell_type": "markdown",
   "id": "899b5dc3",
   "metadata": {},
   "source": [
    "# *Range()"
   ]
  },
  {
   "cell_type": "markdown",
   "id": "e5bd0557",
   "metadata": {},
   "source": [
    "lets see the old tradional way of keeping a sequnce of characters in loops : "
   ]
  },
  {
   "cell_type": "code",
   "execution_count": 8,
   "id": "dd3042ce",
   "metadata": {},
   "outputs": [
    {
     "name": "stdout",
     "output_type": "stream",
     "text": [
      "1\n",
      "2\n",
      "3\n",
      "4\n",
      "5\n"
     ]
    }
   ],
   "source": [
    "for num in seq:\n",
    "    print(num)"
   ]
  },
  {
   "cell_type": "markdown",
   "id": "ab9a5e67",
   "metadata": {},
   "source": [
    "instead we use a range function. Which is like a generator of numerical values\n"
   ]
  },
  {
   "cell_type": "code",
   "execution_count": 11,
   "id": "a2190c3d",
   "metadata": {},
   "outputs": [
    {
     "name": "stdout",
     "output_type": "stream",
     "text": [
      "1 is my lucky number \n",
      "2 is my lucky number \n",
      "3 is my lucky number \n",
      "4 is my lucky number \n",
      "5 is my lucky number \n",
      "6 is my lucky number \n",
      "7 is my lucky number \n",
      "8 is my lucky number \n",
      "9 is my lucky number \n"
     ]
    }
   ],
   "source": [
    "for num in range(1,10):\n",
    "    print(\"{} is my lucky number \".format(num))"
   ]
  },
  {
   "cell_type": "code",
   "execution_count": 10,
   "id": "5b23cbe7",
   "metadata": {},
   "outputs": [
    {
     "data": {
      "text/plain": [
       "[0, 1, 2, 3, 4, 5, 6, 7, 8, 9]"
      ]
     },
     "execution_count": 10,
     "metadata": {},
     "output_type": "execute_result"
    }
   ],
   "source": [
    "list(range(10))"
   ]
  },
  {
   "cell_type": "markdown",
   "id": "25f59a9a",
   "metadata": {},
   "source": [
    "# List Comprehension"
   ]
  },
  {
   "cell_type": "markdown",
   "id": "50896ac7",
   "metadata": {},
   "source": [
    "this will help or allow you to save a bunch of writting"
   ]
  },
  {
   "cell_type": "code",
   "execution_count": 12,
   "id": "a111edd2",
   "metadata": {},
   "outputs": [],
   "source": [
    "x = [1,2,3,4,5]"
   ]
  },
  {
   "cell_type": "markdown",
   "id": "452be59a",
   "metadata": {},
   "source": [
    "here i want to produce a list with squared values of the original list of x"
   ]
  },
  {
   "cell_type": "code",
   "execution_count": 14,
   "id": "bfc4025c",
   "metadata": {},
   "outputs": [],
   "source": [
    "out = []\n",
    "\n",
    "for num in x:\n",
    "    out.append(num**2)"
   ]
  },
  {
   "cell_type": "code",
   "execution_count": 15,
   "id": "ed1b7cb1",
   "metadata": {},
   "outputs": [
    {
     "name": "stdout",
     "output_type": "stream",
     "text": [
      "[1, 4, 9, 16, 25]\n"
     ]
    }
   ],
   "source": [
    "print(out)"
   ]
  },
  {
   "cell_type": "markdown",
   "id": "bcd10c43",
   "metadata": {},
   "source": [
    "Now we're going to translate the above procedures by implementing a list comprehension"
   ]
  },
  {
   "cell_type": "code",
   "execution_count": 16,
   "id": "d353b04a",
   "metadata": {},
   "outputs": [
    {
     "data": {
      "text/plain": [
       "[1, 4, 9, 16, 25]"
      ]
     },
     "execution_count": 16,
     "metadata": {},
     "output_type": "execute_result"
    }
   ],
   "source": [
    "[num**2 for num in x]"
   ]
  },
  {
   "cell_type": "markdown",
   "id": "4188e570",
   "metadata": {},
   "source": [
    "so simply we can put the above idea in the following manner"
   ]
  },
  {
   "cell_type": "code",
   "execution_count": 17,
   "id": "62d59113",
   "metadata": {},
   "outputs": [],
   "source": [
    "out = [num**2 for num in x]"
   ]
  },
  {
   "cell_type": "code",
   "execution_count": 18,
   "id": "31ed9a7e",
   "metadata": {},
   "outputs": [
    {
     "name": "stdout",
     "output_type": "stream",
     "text": [
      "[1, 4, 9, 16, 25]\n"
     ]
    }
   ],
   "source": [
    "print(out)"
   ]
  },
  {
   "cell_type": "markdown",
   "id": "a38daf5b",
   "metadata": {},
   "source": [
    "Hence all those two methods produce the same thing.But list comprehession will save more time for you "
   ]
  },
  {
   "cell_type": "markdown",
   "id": "819c10a8",
   "metadata": {},
   "source": [
    "\n",
    "\n",
    " "
   ]
  },
  {
   "cell_type": "markdown",
   "id": "39ff69e3",
   "metadata": {},
   "source": [
    "# functions"
   ]
  },
  {
   "cell_type": "raw",
   "id": "1940af26",
   "metadata": {},
   "source": [
    "for the syntax\n",
    "    def function_name(parameters_1):\n",
    "        print(parameter_1)\n",
    "        \n",
    "To call the function for use, we use the following syntax\n",
    "=> function_name(parameter_1)"
   ]
  },
  {
   "cell_type": "code",
   "execution_count": 20,
   "id": "eb75d523",
   "metadata": {},
   "outputs": [],
   "source": [
    "def my_func(par:str):\n",
    "    print(par)"
   ]
  },
  {
   "cell_type": "code",
   "execution_count": 21,
   "id": "75786bbc",
   "metadata": {},
   "outputs": [
    {
     "name": "stdout",
     "output_type": "stream",
     "text": [
      "hello\n"
     ]
    }
   ],
   "source": [
    "my_func(\"hello\")"
   ]
  },
  {
   "cell_type": "markdown",
   "id": "7f67f328",
   "metadata": {},
   "source": [
    "* Now lets create a function named square,that takes in a number and returns the square of that number"
   ]
  },
  {
   "cell_type": "code",
   "execution_count": 29,
   "id": "0867de3e",
   "metadata": {},
   "outputs": [],
   "source": [
    "def square(num):\n",
    "    \"\"\"\n",
    "    This is a doc multiline string\n",
    "    and this function squares a number passed a parameter\n",
    "    \"\"\"\n",
    "    return num**2"
   ]
  },
  {
   "cell_type": "code",
   "execution_count": 23,
   "id": "cb5e5500",
   "metadata": {},
   "outputs": [
    {
     "data": {
      "text/plain": [
       "36"
      ]
     },
     "execution_count": 23,
     "metadata": {},
     "output_type": "execute_result"
    }
   ],
   "source": [
    "square(6)"
   ]
  },
  {
   "cell_type": "code",
   "execution_count": 26,
   "id": "5490d526",
   "metadata": {},
   "outputs": [],
   "source": [
    "the_square_is = square(num)"
   ]
  },
  {
   "cell_type": "code",
   "execution_count": 27,
   "id": "2209b809",
   "metadata": {},
   "outputs": [
    {
     "name": "stdout",
     "output_type": "stream",
     "text": [
      "25\n"
     ]
    }
   ],
   "source": [
    "print(the_square_is)"
   ]
  },
  {
   "cell_type": "markdown",
   "id": "404a01f1",
   "metadata": {},
   "source": [
    "now if you want to see my documntation string you have to write, the function name and press shift + tab"
   ]
  },
  {
   "cell_type": "markdown",
   "id": "6eb66033",
   "metadata": {},
   "source": []
  },
  {
   "cell_type": "markdown",
   "id": "fda00c78",
   "metadata": {},
   "source": [
    "# Map "
   ]
  },
  {
   "cell_type": "markdown",
   "id": "4f351afa",
   "metadata": {},
   "source": [
    "now lets begin by creating a function"
   ]
  },
  {
   "cell_type": "code",
   "execution_count": 31,
   "id": "a2092aaf",
   "metadata": {},
   "outputs": [],
   "source": [
    "def times2(var):\n",
    "    return var*2"
   ]
  },
  {
   "cell_type": "code",
   "execution_count": 32,
   "id": "e06031e9",
   "metadata": {},
   "outputs": [
    {
     "data": {
      "text/plain": [
       "10"
      ]
     },
     "execution_count": 32,
     "metadata": {},
     "output_type": "execute_result"
    }
   ],
   "source": [
    "times2(5)"
   ]
  },
  {
   "cell_type": "markdown",
   "id": "36b6f965",
   "metadata": {},
   "source": [
    "*now for the map function/"
   ]
  },
  {
   "cell_type": "code",
   "execution_count": 33,
   "id": "79ab3ee3",
   "metadata": {},
   "outputs": [],
   "source": [
    "#creating a sequence named seq\n",
    "seq = [1,2,3,4,5]"
   ]
  },
  {
   "cell_type": "markdown",
   "id": "753d7f05",
   "metadata": {},
   "source": [
    "* map is a built in function in python, that allows you to save the step of initiializing a for loop and saving the results in another function"
   ]
  },
  {
   "cell_type": "code",
   "execution_count": 34,
   "id": "a8e780dd",
   "metadata": {},
   "outputs": [
    {
     "data": {
      "text/plain": [
       "<map at 0x7f0d13b3bb80>"
      ]
     },
     "execution_count": 34,
     "metadata": {},
     "output_type": "execute_result"
    }
   ],
   "source": [
    "map(times2,seq)"
   ]
  },
  {
   "cell_type": "markdown",
   "id": "8c6d18c6",
   "metadata": {},
   "source": [
    "* the above out[34], describes that we have a map at location 0x7f0d13b3bb80"
   ]
  },
  {
   "cell_type": "markdown",
   "id": "de3cc38b",
   "metadata": {},
   "source": [
    "now lets cast this into a list by using boilt in function "
   ]
  },
  {
   "cell_type": "code",
   "execution_count": 36,
   "id": "90e6d95d",
   "metadata": {},
   "outputs": [
    {
     "data": {
      "text/plain": [
       "[2, 4, 6, 8, 10]"
      ]
     },
     "execution_count": 36,
     "metadata": {},
     "output_type": "execute_result"
    }
   ],
   "source": [
    "list(map(times2,seq))"
   ]
  },
  {
   "cell_type": "markdown",
   "id": "0d9e875e",
   "metadata": {},
   "source": [
    " \n",
    "    \n",
    "    \n",
    "    \n",
    "# Lambda Expression"
   ]
  },
  {
   "cell_type": "markdown",
   "id": "147bb27a",
   "metadata": {},
   "source": [
    "    now here what we do is, we use the times2 function above to make a new function powered by lambda expression"
   ]
  },
  {
   "cell_type": "code",
   "execution_count": 38,
   "id": "23214018",
   "metadata": {},
   "outputs": [
    {
     "data": {
      "text/plain": [
       "<function __main__.<lambda>(var)>"
      ]
     },
     "execution_count": 38,
     "metadata": {},
     "output_type": "execute_result"
    }
   ],
   "source": [
    "lambda var:var*2"
   ]
  },
  {
   "cell_type": "markdown",
   "id": "66a52375",
   "metadata": {},
   "source": [
    "* so we can assign the expression in a variable, then use the variable to act as ordinary calling of functions"
   ]
  },
  {
   "cell_type": "code",
   "execution_count": 39,
   "id": "2ecc50bd",
   "metadata": {},
   "outputs": [],
   "source": [
    "t = lambda var:var*2"
   ]
  },
  {
   "cell_type": "code",
   "execution_count": 40,
   "id": "f053e65d",
   "metadata": {},
   "outputs": [
    {
     "data": {
      "text/plain": [
       "8"
      ]
     },
     "execution_count": 40,
     "metadata": {},
     "output_type": "execute_result"
    }
   ],
   "source": [
    "t(4)"
   ]
  },
  {
   "cell_type": "markdown",
   "id": "5a334ef0",
   "metadata": {},
   "source": [
    "Lambda expressions are normally used in maps.."
   ]
  },
  {
   "cell_type": "code",
   "execution_count": 42,
   "id": "f9dfdba5",
   "metadata": {},
   "outputs": [
    {
     "data": {
      "text/plain": [
       "[2, 4, 6, 8, 10]"
      ]
     },
     "execution_count": 42,
     "metadata": {},
     "output_type": "execute_result"
    }
   ],
   "source": [
    "list(map(lambda num:num*2,seq))"
   ]
  },
  {
   "cell_type": "code",
   "execution_count": null,
   "id": "ded42ec7",
   "metadata": {},
   "outputs": [],
   "source": []
  },
  {
   "cell_type": "code",
   "execution_count": null,
   "id": "42f41ee8",
   "metadata": {},
   "outputs": [],
   "source": []
  },
  {
   "cell_type": "markdown",
   "id": "3aa37f5f",
   "metadata": {},
   "source": [
    "\n",
    "#  filter() built in function "
   ]
  },
  {
   "cell_type": "markdown",
   "id": "72fd7623",
   "metadata": {},
   "source": [
    "the filter function does have similar structure to the map function, but instead of using the function for evey single element in the list, this will filter them out instead"
   ]
  },
  {
   "cell_type": "code",
   "execution_count": 43,
   "id": "b60ebe7e",
   "metadata": {},
   "outputs": [
    {
     "data": {
      "text/plain": [
       "<filter at 0x7f0d13b27ee0>"
      ]
     },
     "execution_count": 43,
     "metadata": {},
     "output_type": "execute_result"
    }
   ],
   "source": [
    "filter(lambda num:num%2 == 0,seq)"
   ]
  },
  {
   "cell_type": "markdown",
   "id": "a377d8e1",
   "metadata": {},
   "source": [
    "* In order to get the results back, we have to cast the filter function into a list"
   ]
  },
  {
   "cell_type": "code",
   "execution_count": 45,
   "id": "dd31ccce",
   "metadata": {},
   "outputs": [
    {
     "data": {
      "text/plain": [
       "[2, 4]"
      ]
     },
     "execution_count": 45,
     "metadata": {},
     "output_type": "execute_result"
    }
   ],
   "source": [
    "list(filter(lambda num:num%2 == 0, seq))"
   ]
  },
  {
   "cell_type": "markdown",
   "id": "a79b286e",
   "metadata": {},
   "source": [
    "\n",
    "\n",
    "# Some String Methods"
   ]
  },
  {
   "cell_type": "markdown",
   "id": "9a18ffaa",
   "metadata": {},
   "source": [
    "consider the following string and the use of the methods within "
   ]
  },
  {
   "cell_type": "code",
   "execution_count": 47,
   "id": "f899282e",
   "metadata": {},
   "outputs": [],
   "source": [
    "s = \"hello, my name is Joseph\""
   ]
  },
  {
   "cell_type": "markdown",
   "id": "9a0bf9ac",
   "metadata": {},
   "source": [
    "* s.lower"
   ]
  },
  {
   "cell_type": "code",
   "execution_count": null,
   "id": "b1f920f8",
   "metadata": {},
   "outputs": [],
   "source": []
  }
 ],
 "metadata": {
  "kernelspec": {
   "display_name": "Python 3",
   "language": "python",
   "name": "python3"
  },
  "language_info": {
   "codemirror_mode": {
    "name": "ipython",
    "version": 3
   },
   "file_extension": ".py",
   "mimetype": "text/x-python",
   "name": "python",
   "nbconvert_exporter": "python",
   "pygments_lexer": "ipython3",
   "version": "3.8.8"
  }
 },
 "nbformat": 4,
 "nbformat_minor": 5
}
