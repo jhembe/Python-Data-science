{
 "cells": [
  {
   "cell_type": "markdown",
   "id": "7b4b870d",
   "metadata": {},
   "source": [
    "# numpy arrays"
   ]
  },
  {
   "cell_type": "markdown",
   "id": "1045b883",
   "metadata": {},
   "source": [
    "* Lets consider a traditional way of writing an array !!"
   ]
  },
  {
   "cell_type": "code",
   "execution_count": 2,
   "id": "427edbc3",
   "metadata": {},
   "outputs": [],
   "source": [
    "my_list = [1,2,3]"
   ]
  },
  {
   "cell_type": "code",
   "execution_count": 3,
   "id": "e6cc9602",
   "metadata": {},
   "outputs": [
    {
     "data": {
      "text/plain": [
       "[1, 2, 3]"
      ]
     },
     "execution_count": 3,
     "metadata": {},
     "output_type": "execute_result"
    }
   ],
   "source": [
    "my_list"
   ]
  },
  {
   "cell_type": "markdown",
   "id": "8311cb51",
   "metadata": {},
   "source": [
    "* The above is the way, that the traditional array works"
   ]
  },
  {
   "cell_type": "raw",
   "id": "117166d4",
   "metadata": {},
   "source": [
    "for numpy arrays !!"
   ]
  },
  {
   "cell_type": "code",
   "execution_count": 4,
   "id": "e4f24c97",
   "metadata": {},
   "outputs": [],
   "source": [
    "import numpy as np"
   ]
  },
  {
   "cell_type": "code",
   "execution_count": 5,
   "id": "d0f7cc2f",
   "metadata": {},
   "outputs": [
    {
     "data": {
      "text/plain": [
       "array([1, 2, 3])"
      ]
     },
     "execution_count": 5,
     "metadata": {},
     "output_type": "execute_result"
    }
   ],
   "source": [
    "np.array(my_list)"
   ]
  },
  {
   "cell_type": "markdown",
   "id": "74bbb8b1",
   "metadata": {},
   "source": [
    "* There above we casted the my_list normal array, to the numpy array() function"
   ]
  },
  {
   "cell_type": "code",
   "execution_count": 7,
   "id": "61cb8fde",
   "metadata": {},
   "outputs": [
    {
     "data": {
      "text/plain": [
       "'#NOTE, That above provides us with a 1-D array'"
      ]
     },
     "execution_count": 7,
     "metadata": {},
     "output_type": "execute_result"
    }
   ],
   "source": [
    "\"#NOTE, That above provides us with a 1-D array\""
   ]
  },
  {
   "cell_type": "markdown",
   "id": "8e67306c",
   "metadata": {},
   "source": [
    "* For a list of multi-dimensional array,here we do the following...."
   ]
  },
  {
   "cell_type": "code",
   "execution_count": 8,
   "id": "8ba937eb",
   "metadata": {},
   "outputs": [],
   "source": [
    "my_mat = [[1,2,3],[4,5,6],[7,8,9]]"
   ]
  },
  {
   "cell_type": "code",
   "execution_count": 9,
   "id": "6892b40f",
   "metadata": {},
   "outputs": [],
   "source": [
    "numpy_my_mat = np.array(my_mat)"
   ]
  },
  {
   "cell_type": "code",
   "execution_count": 10,
   "id": "8d50a5b3",
   "metadata": {},
   "outputs": [
    {
     "name": "stdout",
     "output_type": "stream",
     "text": [
      "[[1, 2, 3], [4, 5, 6], [7, 8, 9]]\n"
     ]
    }
   ],
   "source": [
    "print(my_mat)"
   ]
  },
  {
   "cell_type": "code",
   "execution_count": 11,
   "id": "3f1e70c2",
   "metadata": {},
   "outputs": [
    {
     "data": {
      "text/plain": [
       "array([[1, 2, 3],\n",
       "       [4, 5, 6],\n",
       "       [7, 8, 9]])"
      ]
     },
     "execution_count": 11,
     "metadata": {},
     "output_type": "execute_result"
    }
   ],
   "source": [
    "numpy_my_mat"
   ]
  },
  {
   "cell_type": "markdown",
   "id": "cad57291",
   "metadata": {},
   "source": [
    "\n",
    "##### Thats what occurs on casting normal pyhton list to numpy arrays"
   ]
  },
  {
   "cell_type": "markdown",
   "id": "bcbc5de4",
   "metadata": {},
   "source": [
    "\n",
    "## Common ways of creating numpy arrays "
   ]
  },
  {
   "cell_type": "code",
   "execution_count": 12,
   "id": "4561cf6f",
   "metadata": {},
   "outputs": [
    {
     "data": {
      "text/plain": [
       "array([ 0, 30, 60])"
      ]
     },
     "execution_count": 12,
     "metadata": {},
     "output_type": "execute_result"
    }
   ],
   "source": [
    "np.arange(0,90,30)"
   ]
  },
  {
   "cell_type": "markdown",
   "id": "a9256b08",
   "metadata": {},
   "source": [
    "~Here the syntax is as follows :-"
   ]
  },
  {
   "cell_type": "raw",
   "id": "462d1aab",
   "metadata": {},
   "source": [
    "\"\"\"\n",
    "np.arange(start,finish,step_size)\n",
    "\"\"\""
   ]
  },
  {
   "cell_type": "code",
   "execution_count": 22,
   "id": "baceddb5",
   "metadata": {},
   "outputs": [
    {
     "data": {
      "text/plain": [
       "array([0, 1, 2, 3, 4, 5, 6, 7, 8, 9])"
      ]
     },
     "execution_count": 22,
     "metadata": {},
     "output_type": "execute_result"
    }
   ],
   "source": [
    "np.arange(0,10)"
   ]
  },
  {
   "cell_type": "markdown",
   "id": "81997e9a",
   "metadata": {},
   "source": [
    "#### Raise of pure zeros in an array"
   ]
  },
  {
   "cell_type": "markdown",
   "id": "e9d531c6",
   "metadata": {},
   "source": [
    "\n",
    "* if you want to generate an array of zeros,then the function ###.zeros()"
   ]
  },
  {
   "cell_type": "code",
   "execution_count": 23,
   "id": "23e4c844",
   "metadata": {},
   "outputs": [
    {
     "data": {
      "text/plain": [
       "array([0., 0., 0.])"
      ]
     },
     "execution_count": 23,
     "metadata": {},
     "output_type": "execute_result"
    }
   ],
   "source": [
    "np.zeros(3)"
   ]
  },
  {
   "cell_type": "markdown",
   "id": "e0b93cc4",
   "metadata": {},
   "source": [
    "#### Raise of pure zeros in a multi-dimensional array"
   ]
  },
  {
   "cell_type": "raw",
   "id": "f50176aa",
   "metadata": {},
   "source": [
    "* To create a multi-dimensional array of zeros, here we use the following syntax:\n",
    "    np.zeros((rows,columns))"
   ]
  },
  {
   "cell_type": "code",
   "execution_count": 18,
   "id": "72822a71",
   "metadata": {},
   "outputs": [
    {
     "data": {
      "text/plain": [
       "array([[0., 0., 0.],\n",
       "       [0., 0., 0.],\n",
       "       [0., 0., 0.],\n",
       "       [0., 0., 0.],\n",
       "       [0., 0., 0.],\n",
       "       [0., 0., 0.],\n",
       "       [0., 0., 0.],\n",
       "       [0., 0., 0.]])"
      ]
     },
     "execution_count": 18,
     "metadata": {},
     "output_type": "execute_result"
    }
   ],
   "source": [
    "np.zeros((8,3))"
   ]
  },
  {
   "cell_type": "code",
   "execution_count": 20,
   "id": "66d7beb7",
   "metadata": {},
   "outputs": [
    {
     "data": {
      "text/plain": [
       "array([[0., 0., 0., 0., 0.],\n",
       "       [0., 0., 0., 0., 0.],\n",
       "       [0., 0., 0., 0., 0.],\n",
       "       [0., 0., 0., 0., 0.],\n",
       "       [0., 0., 0., 0., 0.],\n",
       "       [0., 0., 0., 0., 0.],\n",
       "       [0., 0., 0., 0., 0.],\n",
       "       [0., 0., 0., 0., 0.],\n",
       "       [0., 0., 0., 0., 0.],\n",
       "       [0., 0., 0., 0., 0.]])"
      ]
     },
     "execution_count": 20,
     "metadata": {},
     "output_type": "execute_result"
    }
   ],
   "source": [
    "np.zeros((10,5))"
   ]
  },
  {
   "cell_type": "markdown",
   "id": "ac18b648",
   "metadata": {},
   "source": [
    "#### Raise of pure ones in 1-D array"
   ]
  },
  {
   "cell_type": "markdown",
   "id": "f75be376",
   "metadata": {},
   "source": [
    "* Here we use numpy.ones() function to generate pure ones in a single dimensional arrays"
   ]
  },
  {
   "cell_type": "code",
   "execution_count": 24,
   "id": "06b4004a",
   "metadata": {},
   "outputs": [
    {
     "data": {
      "text/plain": [
       "array([1., 1., 1., 1., 1.])"
      ]
     },
     "execution_count": 24,
     "metadata": {},
     "output_type": "execute_result"
    }
   ],
   "source": [
    "np.ones(5)"
   ]
  },
  {
   "cell_type": "code",
   "execution_count": 25,
   "id": "d8f20ede",
   "metadata": {},
   "outputs": [
    {
     "data": {
      "text/plain": [
       "array([1., 1., 1., 1., 1., 1., 1., 1., 1., 1.])"
      ]
     },
     "execution_count": 25,
     "metadata": {},
     "output_type": "execute_result"
    }
   ],
   "source": [
    "np.ones(10)"
   ]
  },
  {
   "cell_type": "markdown",
   "id": "36fcdff2",
   "metadata": {},
   "source": [
    "#### Raise of pure ones in Multi-dimensional arrays"
   ]
  },
  {
   "cell_type": "markdown",
   "id": "f64fde20",
   "metadata": {},
   "source": [
    "* Here we use the the function np.ones((rows,column)) to generate that arrays"
   ]
  },
  {
   "cell_type": "code",
   "execution_count": 27,
   "id": "4763d5a3",
   "metadata": {},
   "outputs": [
    {
     "data": {
      "text/plain": [
       "array([[1., 1., 1., 1., 1.],\n",
       "       [1., 1., 1., 1., 1.],\n",
       "       [1., 1., 1., 1., 1.],\n",
       "       [1., 1., 1., 1., 1.],\n",
       "       [1., 1., 1., 1., 1.],\n",
       "       [1., 1., 1., 1., 1.],\n",
       "       [1., 1., 1., 1., 1.],\n",
       "       [1., 1., 1., 1., 1.]])"
      ]
     },
     "execution_count": 27,
     "metadata": {},
     "output_type": "execute_result"
    }
   ],
   "source": [
    "np.ones((8,5))"
   ]
  },
  {
   "cell_type": "markdown",
   "id": "c9a1984f",
   "metadata": {},
   "source": [
    "* These arrays can even be stored in a variable and then printed put in one line"
   ]
  },
  {
   "cell_type": "code",
   "execution_count": 28,
   "id": "1c3795b9",
   "metadata": {},
   "outputs": [],
   "source": [
    "my_ones = np.ones((8,4))"
   ]
  },
  {
   "cell_type": "code",
   "execution_count": 29,
   "id": "2a24586d",
   "metadata": {},
   "outputs": [
    {
     "name": "stdout",
     "output_type": "stream",
     "text": [
      "[[1. 1. 1. 1.]\n",
      " [1. 1. 1. 1.]\n",
      " [1. 1. 1. 1.]\n",
      " [1. 1. 1. 1.]\n",
      " [1. 1. 1. 1.]\n",
      " [1. 1. 1. 1.]\n",
      " [1. 1. 1. 1.]\n",
      " [1. 1. 1. 1.]]\n"
     ]
    }
   ],
   "source": [
    "print(my_ones)"
   ]
  },
  {
   "cell_type": "markdown",
   "id": "9bb4e8cf",
   "metadata": {},
   "source": [
    "## linspace()"
   ]
  },
  {
   "cell_type": "markdown",
   "id": "c097c1f9",
   "metadata": {},
   "source": [
    "* This python method is used to devide equaly a range of values provided in the argument section"
   ]
  },
  {
   "cell_type": "code",
   "execution_count": 4,
   "id": "9ccc9aff",
   "metadata": {},
   "outputs": [],
   "source": [
    "\"\"\"\n",
    "Consider the following example bellow :\n",
    "\"\"\"\n",
    "import numpy as np"
   ]
  },
  {
   "cell_type": "code",
   "execution_count": 31,
   "id": "a6d9aab3",
   "metadata": {},
   "outputs": [
    {
     "data": {
      "text/plain": [
       "array([  0.        ,   5.26315789,  10.52631579,  15.78947368,\n",
       "        21.05263158,  26.31578947,  31.57894737,  36.84210526,\n",
       "        42.10526316,  47.36842105,  52.63157895,  57.89473684,\n",
       "        63.15789474,  68.42105263,  73.68421053,  78.94736842,\n",
       "        84.21052632,  89.47368421,  94.73684211, 100.        ])"
      ]
     },
     "execution_count": 31,
     "metadata": {},
     "output_type": "execute_result"
    }
   ],
   "source": [
    "np.linspace(0,100,20)"
   ]
  },
  {
   "cell_type": "code",
   "execution_count": 5,
   "id": "d10a44e1",
   "metadata": {},
   "outputs": [
    {
     "data": {
      "text/plain": [
       "array([0.        , 0.05050505, 0.1010101 , 0.15151515, 0.2020202 ,\n",
       "       0.25252525, 0.3030303 , 0.35353535, 0.4040404 , 0.45454545,\n",
       "       0.50505051, 0.55555556, 0.60606061, 0.65656566, 0.70707071,\n",
       "       0.75757576, 0.80808081, 0.85858586, 0.90909091, 0.95959596,\n",
       "       1.01010101, 1.06060606, 1.11111111, 1.16161616, 1.21212121,\n",
       "       1.26262626, 1.31313131, 1.36363636, 1.41414141, 1.46464646,\n",
       "       1.51515152, 1.56565657, 1.61616162, 1.66666667, 1.71717172,\n",
       "       1.76767677, 1.81818182, 1.86868687, 1.91919192, 1.96969697,\n",
       "       2.02020202, 2.07070707, 2.12121212, 2.17171717, 2.22222222,\n",
       "       2.27272727, 2.32323232, 2.37373737, 2.42424242, 2.47474747,\n",
       "       2.52525253, 2.57575758, 2.62626263, 2.67676768, 2.72727273,\n",
       "       2.77777778, 2.82828283, 2.87878788, 2.92929293, 2.97979798,\n",
       "       3.03030303, 3.08080808, 3.13131313, 3.18181818, 3.23232323,\n",
       "       3.28282828, 3.33333333, 3.38383838, 3.43434343, 3.48484848,\n",
       "       3.53535354, 3.58585859, 3.63636364, 3.68686869, 3.73737374,\n",
       "       3.78787879, 3.83838384, 3.88888889, 3.93939394, 3.98989899,\n",
       "       4.04040404, 4.09090909, 4.14141414, 4.19191919, 4.24242424,\n",
       "       4.29292929, 4.34343434, 4.39393939, 4.44444444, 4.49494949,\n",
       "       4.54545455, 4.5959596 , 4.64646465, 4.6969697 , 4.74747475,\n",
       "       4.7979798 , 4.84848485, 4.8989899 , 4.94949495, 5.        ])"
      ]
     },
     "execution_count": 5,
     "metadata": {},
     "output_type": "execute_result"
    }
   ],
   "source": [
    "np.linspace(0,5,100)"
   ]
  },
  {
   "cell_type": "raw",
   "id": "04fa467b",
   "metadata": {},
   "source": [
    "* We can tell that this is a 1-D array, by looking at the roots of the square brackets:\n",
    "    if there is only one square bracket outside, then its a 1-D array\n",
    "    else if there are more than one square brackets at the roots, then its a multi-dimensional array\n",
    "    # NOTE, you can count them to know what king of multi-D-A it is"
   ]
  },
  {
   "cell_type": "markdown",
   "id": "5f027f99",
   "metadata": {},
   "source": [
    "### Creating an Identity Matrix using numpy"
   ]
  },
  {
   "cell_type": "markdown",
   "id": "3a8d6222",
   "metadata": {},
   "source": [
    "* Here we use np.eye(rows), this means it will create a matrix of row-dimensional array"
   ]
  },
  {
   "cell_type": "code",
   "execution_count": 35,
   "id": "5e54aaac",
   "metadata": {},
   "outputs": [
    {
     "data": {
      "text/plain": [
       "array([[1., 0., 0., 0.],\n",
       "       [0., 1., 0., 0.],\n",
       "       [0., 0., 1., 0.],\n",
       "       [0., 0., 0., 1.]])"
      ]
     },
     "execution_count": 35,
     "metadata": {},
     "output_type": "execute_result"
    }
   ],
   "source": [
    "np.eye(4)"
   ]
  },
  {
   "cell_type": "code",
   "execution_count": 36,
   "id": "80f4b9a9",
   "metadata": {},
   "outputs": [
    {
     "data": {
      "text/plain": [
       "array([[1., 0., 0.],\n",
       "       [0., 1., 0.],\n",
       "       [0., 0., 1.]])"
      ]
     },
     "execution_count": 36,
     "metadata": {},
     "output_type": "execute_result"
    }
   ],
   "source": [
    "np.eye(3)"
   ]
  },
  {
   "cell_type": "code",
   "execution_count": 37,
   "id": "a601fc1e",
   "metadata": {},
   "outputs": [
    {
     "data": {
      "text/plain": [
       "array([[1., 0., 0., 0., 0., 0.],\n",
       "       [0., 1., 0., 0., 0., 0.],\n",
       "       [0., 0., 1., 0., 0., 0.],\n",
       "       [0., 0., 0., 1., 0., 0.],\n",
       "       [0., 0., 0., 0., 1., 0.],\n",
       "       [0., 0., 0., 0., 0., 1.]])"
      ]
     },
     "execution_count": 37,
     "metadata": {},
     "output_type": "execute_result"
    }
   ],
   "source": [
    "np.eye(6)"
   ]
  },
  {
   "cell_type": "code",
   "execution_count": null,
   "id": "966ec583",
   "metadata": {},
   "outputs": [],
   "source": []
  },
  {
   "cell_type": "markdown",
   "id": "38159ca8",
   "metadata": {},
   "source": [
    "## Creating Arrays of random numbers"
   ]
  },
  {
   "cell_type": "markdown",
   "id": "359ea07f",
   "metadata": {},
   "source": [
    "* In order to achieve this random generation, we use np.random.random_method()"
   ]
  },
  {
   "cell_type": "markdown",
   "id": "0a0ecbb9",
   "metadata": {},
   "source": [
    "#### np.random.rand()"
   ]
  },
  {
   "cell_type": "code",
   "execution_count": 38,
   "id": "8c44da35",
   "metadata": {},
   "outputs": [
    {
     "data": {
      "text/plain": [
       "array([0.9208251 , 0.07354636, 0.29941574, 0.41854818, 0.96087478])"
      ]
     },
     "execution_count": 38,
     "metadata": {},
     "output_type": "execute_result"
    }
   ],
   "source": [
    "np.random.rand(5)"
   ]
  },
  {
   "cell_type": "markdown",
   "id": "06794486",
   "metadata": {},
   "source": [
    "* NOTE, here the rand() method is used to generate numbers from zero to one, with the division to mach the equal division of the passed argument"
   ]
  },
  {
   "cell_type": "code",
   "execution_count": 40,
   "id": "93f70686",
   "metadata": {},
   "outputs": [
    {
     "data": {
      "text/plain": [
       "array([0.57752835, 0.74184354, 0.34777901, 0.15312769, 0.05893568,\n",
       "       0.83296398, 0.80591741, 0.9481664 , 0.08245793, 0.9642945 ])"
      ]
     },
     "execution_count": 40,
     "metadata": {},
     "output_type": "execute_result"
    }
   ],
   "source": [
    "np.random.rand(10)"
   ]
  },
  {
   "cell_type": "markdown",
   "id": "7ef50b41",
   "metadata": {},
   "source": [
    "* for a multi-dimensional array of random generation of numbers"
   ]
  },
  {
   "cell_type": "code",
   "execution_count": 42,
   "id": "680a8ebb",
   "metadata": {},
   "outputs": [
    {
     "data": {
      "text/plain": [
       "array([[0.47344357, 0.35657005, 0.22146007, 0.3926975 , 0.0220497 ],\n",
       "       [0.35628378, 0.36854497, 0.38785054, 0.90168194, 0.19586962],\n",
       "       [0.81264171, 0.58602759, 0.80921437, 0.56031496, 0.76978661],\n",
       "       [0.86274356, 0.65534464, 0.37597625, 0.46565515, 0.88547072],\n",
       "       [0.64330691, 0.27676929, 0.27884037, 0.08117995, 0.31036532]])"
      ]
     },
     "execution_count": 42,
     "metadata": {},
     "output_type": "execute_result"
    }
   ],
   "source": [
    "np.random.rand(5,5)"
   ]
  },
  {
   "cell_type": "markdown",
   "id": "9b4c50ff",
   "metadata": {},
   "source": [
    "#### np.random.randn()"
   ]
  },
  {
   "cell_type": "markdown",
   "id": "41af7823",
   "metadata": {},
   "source": [
    "* At this point, we can generate numbers from a standard normal distribution, totaly random"
   ]
  },
  {
   "cell_type": "code",
   "execution_count": 44,
   "id": "e0fd26b2",
   "metadata": {},
   "outputs": [
    {
     "data": {
      "text/plain": [
       "array([ 0.65738897, -0.5058676 , -1.05286314, -0.29413583,  0.60326728,\n",
       "       -0.85250294,  0.84250319, -0.29389281])"
      ]
     },
     "execution_count": 44,
     "metadata": {},
     "output_type": "execute_result"
    }
   ],
   "source": [
    "np.random.randn(8)"
   ]
  },
  {
   "cell_type": "code",
   "execution_count": 45,
   "id": "c7c56a5d",
   "metadata": {},
   "outputs": [
    {
     "data": {
      "text/plain": [
       "array([[-0.44570379, -0.66679834, -0.02325141, -0.10274203, -0.0832821 ],\n",
       "       [ 1.99367636,  0.84226416,  0.2302015 , -0.00275894, -0.2890331 ],\n",
       "       [ 1.40376746, -0.01761842,  2.15502673,  2.08696672, -0.10172507],\n",
       "       [-0.67347879, -0.99582894, -1.41247058,  1.34275669, -0.0637396 ],\n",
       "       [-0.17992378, -0.980505  , -0.3432044 , -1.98833427, -1.04551416]])"
      ]
     },
     "execution_count": 45,
     "metadata": {},
     "output_type": "execute_result"
    }
   ],
   "source": [
    "np.random.randn(5,5)"
   ]
  },
  {
   "cell_type": "markdown",
   "id": "12478837",
   "metadata": {},
   "source": [
    "#### np.random.randint()"
   ]
  },
  {
   "cell_type": "markdown",
   "id": "d9a33fe2",
   "metadata": {},
   "source": [
    "* Now here what happens is, we're going to generate random numbers from a lower to a higher level, totally random"
   ]
  },
  {
   "cell_type": "code",
   "execution_count": 46,
   "id": "b076900f",
   "metadata": {},
   "outputs": [
    {
     "data": {
      "text/plain": [
       "64"
      ]
     },
     "execution_count": 46,
     "metadata": {},
     "output_type": "execute_result"
    }
   ],
   "source": [
    "np.random.randint(1,100)"
   ]
  },
  {
   "cell_type": "code",
   "execution_count": 47,
   "id": "d9fd58b1",
   "metadata": {},
   "outputs": [
    {
     "data": {
      "text/plain": [
       "10"
      ]
     },
     "execution_count": 47,
     "metadata": {},
     "output_type": "execute_result"
    }
   ],
   "source": [
    "np.random.randint(1,20)"
   ]
  },
  {
   "cell_type": "markdown",
   "id": "893be403",
   "metadata": {},
   "source": [
    "* Now incase you need the size of your array, to be more than one number, then we pass the third argument in our function"
   ]
  },
  {
   "cell_type": "code",
   "execution_count": 48,
   "id": "77f57a95",
   "metadata": {},
   "outputs": [
    {
     "data": {
      "text/plain": [
       "array([10, 16, 12, 11,  3,  2, 19, 18,  6,  4, 14,  9,  1, 11, 14,  3, 19,\n",
       "        1, 16,  5])"
      ]
     },
     "execution_count": 48,
     "metadata": {},
     "output_type": "execute_result"
    }
   ],
   "source": [
    "np.random.randint(1,20,20)"
   ]
  },
  {
   "cell_type": "code",
   "execution_count": 49,
   "id": "ce3581b9",
   "metadata": {},
   "outputs": [
    {
     "data": {
      "text/plain": [
       "array([47, 12, 89, 74, 21, 66, 11, 21, 53, 56])"
      ]
     },
     "execution_count": 49,
     "metadata": {},
     "output_type": "execute_result"
    }
   ],
   "source": [
    "np.random.randint(1,100,10)"
   ]
  },
  {
   "cell_type": "code",
   "execution_count": 50,
   "id": "d3610a07",
   "metadata": {},
   "outputs": [
    {
     "data": {
      "text/plain": [
       "array([106, 161,  12])"
      ]
     },
     "execution_count": 50,
     "metadata": {},
     "output_type": "execute_result"
    }
   ],
   "source": [
    "np.random.randint(1,200,3)"
   ]
  },
  {
   "cell_type": "code",
   "execution_count": null,
   "id": "64cabe6e",
   "metadata": {},
   "outputs": [],
   "source": []
  },
  {
   "cell_type": "markdown",
   "id": "902106f0",
   "metadata": {},
   "source": [
    "## Atributes and methods of an array"
   ]
  },
  {
   "cell_type": "markdown",
   "id": "a5619941",
   "metadata": {},
   "source": [
    "* Now am going to create different arrays in order to demostrate new examples of this part "
   ]
  },
  {
   "cell_type": "code",
   "execution_count": 51,
   "id": "5fd31d34",
   "metadata": {},
   "outputs": [],
   "source": [
    "arr = np.arange(25)"
   ]
  },
  {
   "cell_type": "code",
   "execution_count": 52,
   "id": "23a2c3fb",
   "metadata": {},
   "outputs": [
    {
     "name": "stdout",
     "output_type": "stream",
     "text": [
      "[ 0  1  2  3  4  5  6  7  8  9 10 11 12 13 14 15 16 17 18 19 20 21 22 23\n",
      " 24]\n"
     ]
    }
   ],
   "source": [
    "print(arr)"
   ]
  },
  {
   "cell_type": "code",
   "execution_count": 55,
   "id": "9dec92b2",
   "metadata": {},
   "outputs": [],
   "source": [
    "ranarr = np.random.randint(0,50,10)"
   ]
  },
  {
   "cell_type": "code",
   "execution_count": 56,
   "id": "2ba1c07e",
   "metadata": {},
   "outputs": [
    {
     "data": {
      "text/plain": [
       "array([21, 19, 30, 36,  4,  2, 23, 38,  6, 21])"
      ]
     },
     "execution_count": 56,
     "metadata": {},
     "output_type": "execute_result"
    }
   ],
   "source": [
    "ranarr"
   ]
  },
  {
   "cell_type": "code",
   "execution_count": null,
   "id": "bb93bb82",
   "metadata": {},
   "outputs": [],
   "source": []
  },
  {
   "cell_type": "markdown",
   "id": "b9b672fd",
   "metadata": {},
   "source": [
    "#### reshape() method"
   ]
  },
  {
   "cell_type": "markdown",
   "id": "131cfaba",
   "metadata": {},
   "source": [
    "* This will essentially, help to return the same data, but with a new shape"
   ]
  },
  {
   "cell_type": "code",
   "execution_count": 57,
   "id": "2b3de360",
   "metadata": {},
   "outputs": [
    {
     "data": {
      "text/plain": [
       "array([[ 0,  1,  2,  3,  4],\n",
       "       [ 5,  6,  7,  8,  9],\n",
       "       [10, 11, 12, 13, 14],\n",
       "       [15, 16, 17, 18, 19],\n",
       "       [20, 21, 22, 23, 24]])"
      ]
     },
     "execution_count": 57,
     "metadata": {},
     "output_type": "execute_result"
    }
   ],
   "source": [
    "arr.reshape(5,5)"
   ]
  },
  {
   "cell_type": "markdown",
   "id": "fc751757",
   "metadata": {},
   "source": [
    "* So what happened above is that, we reshaped the same data from 0-24, making it a 5 by 5 array"
   ]
  },
  {
   "cell_type": "markdown",
   "id": "6361f2da",
   "metadata": {},
   "source": [
    "* Special Note to make is that, the array should be filled out"
   ]
  },
  {
   "cell_type": "code",
   "execution_count": null,
   "id": "7edf9ea2",
   "metadata": {},
   "outputs": [],
   "source": []
  },
  {
   "cell_type": "code",
   "execution_count": null,
   "id": "a957591f",
   "metadata": {},
   "outputs": [],
   "source": []
  },
  {
   "cell_type": "code",
   "execution_count": null,
   "id": "0f7193a6",
   "metadata": {},
   "outputs": [],
   "source": []
  },
  {
   "cell_type": "markdown",
   "id": "3d649259",
   "metadata": {},
   "source": [
    "# NumPy indexing and Selection"
   ]
  },
  {
   "cell_type": "code",
   "execution_count": 58,
   "id": "20d9d837",
   "metadata": {},
   "outputs": [],
   "source": [
    "import numpy as np"
   ]
  },
  {
   "cell_type": "markdown",
   "id": "490f7a72",
   "metadata": {},
   "source": [
    "* generating my sample array"
   ]
  },
  {
   "cell_type": "code",
   "execution_count": 62,
   "id": "93f633a7",
   "metadata": {},
   "outputs": [],
   "source": [
    "arr = np.arange(0,11)"
   ]
  },
  {
   "cell_type": "code",
   "execution_count": 60,
   "id": "077033bb",
   "metadata": {},
   "outputs": [
    {
     "data": {
      "text/plain": [
       "array([ 1,  2,  3,  4,  5,  6,  7,  8,  9, 10])"
      ]
     },
     "execution_count": 60,
     "metadata": {},
     "output_type": "execute_result"
    }
   ],
   "source": [
    "arr"
   ]
  },
  {
   "cell_type": "markdown",
   "id": "ecb6fd84",
   "metadata": {},
   "source": [
    "* In order to index we're going to do as follows "
   ]
  },
  {
   "cell_type": "code",
   "execution_count": 63,
   "id": "484e9811",
   "metadata": {},
   "outputs": [
    {
     "data": {
      "text/plain": [
       "8"
      ]
     },
     "execution_count": 63,
     "metadata": {},
     "output_type": "execute_result"
    }
   ],
   "source": [
    "arr[8]"
   ]
  },
  {
   "cell_type": "markdown",
   "id": "b34f53d0",
   "metadata": {},
   "source": [
    "* if i want to get the values of arr in range, i have to use slicing notations"
   ]
  },
  {
   "cell_type": "code",
   "execution_count": 64,
   "id": "cf004576",
   "metadata": {},
   "outputs": [
    {
     "data": {
      "text/plain": [
       "array([2, 3, 4])"
      ]
     },
     "execution_count": 64,
     "metadata": {},
     "output_type": "execute_result"
    }
   ],
   "source": [
    "arr[2:5]"
   ]
  },
  {
   "cell_type": "code",
   "execution_count": 65,
   "id": "a4c7fe32",
   "metadata": {},
   "outputs": [
    {
     "data": {
      "text/plain": [
       "array([ 0,  1,  2,  3,  4,  5,  6,  7,  8,  9, 10])"
      ]
     },
     "execution_count": 65,
     "metadata": {},
     "output_type": "execute_result"
    }
   ],
   "source": [
    "arr[0:]"
   ]
  },
  {
   "cell_type": "markdown",
   "id": "528ff98a",
   "metadata": {},
   "source": [
    "* Its just that much simple"
   ]
  },
  {
   "cell_type": "markdown",
   "id": "3507f5b9",
   "metadata": {},
   "source": [
    "#### Numpy array, differs from python arrays, due to their ability to broadcast"
   ]
  },
  {
   "cell_type": "markdown",
   "id": "480dbf40",
   "metadata": {},
   "source": [
    "###### numpy arrays broadcasting"
   ]
  },
  {
   "cell_type": "markdown",
   "id": "36bb104e",
   "metadata": {},
   "source": [
    "* Broadcasting of numpy arrays, means changing all values of an array, depending on the selection"
   ]
  },
  {
   "cell_type": "code",
   "execution_count": 66,
   "id": "938293f1",
   "metadata": {},
   "outputs": [],
   "source": [
    "arr = np.arange(0,11)"
   ]
  },
  {
   "cell_type": "code",
   "execution_count": 67,
   "id": "4498c348",
   "metadata": {},
   "outputs": [
    {
     "data": {
      "text/plain": [
       "array([ 0,  1,  2,  3,  4,  5,  6,  7,  8,  9, 10])"
      ]
     },
     "execution_count": 67,
     "metadata": {},
     "output_type": "execute_result"
    }
   ],
   "source": [
    "arr"
   ]
  },
  {
   "cell_type": "markdown",
   "id": "df9522f0",
   "metadata": {},
   "source": [
    "* Now if i want to change the first 5, digits to a specific uniform value, that's called broadcasting"
   ]
  },
  {
   "cell_type": "markdown",
   "id": "37b506b3",
   "metadata": {},
   "source": [
    "* consider :"
   ]
  },
  {
   "cell_type": "code",
   "execution_count": 69,
   "id": "c8aa5da9",
   "metadata": {},
   "outputs": [],
   "source": [
    "arr[0:5] = 100"
   ]
  },
  {
   "cell_type": "code",
   "execution_count": 70,
   "id": "8eaa48ed",
   "metadata": {},
   "outputs": [
    {
     "data": {
      "text/plain": [
       "array([100, 100, 100, 100, 100,   5,   6,   7,   8,   9,  10])"
      ]
     },
     "execution_count": 70,
     "metadata": {},
     "output_type": "execute_result"
    }
   ],
   "source": [
    "arr"
   ]
  },
  {
   "cell_type": "markdown",
   "id": "a01ffc2a",
   "metadata": {},
   "source": [
    "* Reseting the array,again for a different example, we get ....."
   ]
  },
  {
   "cell_type": "code",
   "execution_count": 72,
   "id": "255f65de",
   "metadata": {},
   "outputs": [],
   "source": [
    "arr=np.arange(0,21)"
   ]
  },
  {
   "cell_type": "code",
   "execution_count": 73,
   "id": "6e4a34aa",
   "metadata": {},
   "outputs": [
    {
     "data": {
      "text/plain": [
       "array([ 0,  1,  2,  3,  4,  5,  6,  7,  8,  9, 10, 11, 12, 13, 14, 15, 16,\n",
       "       17, 18, 19, 20])"
      ]
     },
     "execution_count": 73,
     "metadata": {},
     "output_type": "execute_result"
    }
   ],
   "source": [
    "arr"
   ]
  },
  {
   "cell_type": "code",
   "execution_count": 74,
   "id": "679c95c1",
   "metadata": {},
   "outputs": [],
   "source": [
    "first_slice_arr = arr[0:11]"
   ]
  },
  {
   "cell_type": "code",
   "execution_count": 75,
   "id": "07676c8c",
   "metadata": {},
   "outputs": [
    {
     "data": {
      "text/plain": [
       "array([ 0,  1,  2,  3,  4,  5,  6,  7,  8,  9, 10])"
      ]
     },
     "execution_count": 75,
     "metadata": {},
     "output_type": "execute_result"
    }
   ],
   "source": [
    "first_slice_arr"
   ]
  },
  {
   "cell_type": "markdown",
   "id": "5440b5aa",
   "metadata": {},
   "source": [
    "* Now i want to broadcast 70 to half of the first slice array "
   ]
  },
  {
   "cell_type": "code",
   "execution_count": 76,
   "id": "bf5ebce0",
   "metadata": {},
   "outputs": [],
   "source": [
    "first_slice_arr[1:5] = 70"
   ]
  },
  {
   "cell_type": "code",
   "execution_count": 77,
   "id": "dd042b0b",
   "metadata": {},
   "outputs": [
    {
     "data": {
      "text/plain": [
       "array([ 0, 70, 70, 70, 70,  5,  6,  7,  8,  9, 10])"
      ]
     },
     "execution_count": 77,
     "metadata": {},
     "output_type": "execute_result"
    }
   ],
   "source": [
    "first_slice_arr"
   ]
  },
  {
   "cell_type": "markdown",
   "id": "4f444d68",
   "metadata": {},
   "source": [
    "* Now our second slice array ---"
   ]
  },
  {
   "cell_type": "code",
   "execution_count": 78,
   "id": "2bd8feef",
   "metadata": {},
   "outputs": [],
   "source": [
    "second_slice_arr = arr[11:21]"
   ]
  },
  {
   "cell_type": "code",
   "execution_count": 79,
   "id": "35d87f90",
   "metadata": {},
   "outputs": [
    {
     "data": {
      "text/plain": [
       "array([11, 12, 13, 14, 15, 16, 17, 18, 19, 20])"
      ]
     },
     "execution_count": 79,
     "metadata": {},
     "output_type": "execute_result"
    }
   ],
   "source": [
    "second_slice_arr"
   ]
  },
  {
   "cell_type": "markdown",
   "id": "f060f4db",
   "metadata": {},
   "source": [
    "* now i want to broadcast, the number 50, to the last 5 digits of the arr"
   ]
  },
  {
   "cell_type": "code",
   "execution_count": 80,
   "id": "b316fdc3",
   "metadata": {},
   "outputs": [],
   "source": [
    "second_slice_arr[:5]= 20"
   ]
  },
  {
   "cell_type": "code",
   "execution_count": 81,
   "id": "ab501519",
   "metadata": {},
   "outputs": [
    {
     "data": {
      "text/plain": [
       "array([20, 20, 20, 20, 20, 16, 17, 18, 19, 20])"
      ]
     },
     "execution_count": 81,
     "metadata": {},
     "output_type": "execute_result"
    }
   ],
   "source": [
    "second_slice_arr\n"
   ]
  },
  {
   "cell_type": "markdown",
   "id": "cbd05cc7",
   "metadata": {},
   "source": [
    "* Now that is broadcasting"
   ]
  },
  {
   "cell_type": "code",
   "execution_count": 82,
   "id": "f1680288",
   "metadata": {},
   "outputs": [
    {
     "data": {
      "text/plain": [
       "array([ 0, 70, 70, 70, 70,  5,  6,  7,  8,  9, 10, 20, 20, 20, 20, 20, 16,\n",
       "       17, 18, 19, 20])"
      ]
     },
     "execution_count": 82,
     "metadata": {},
     "output_type": "execute_result"
    }
   ],
   "source": [
    "arr"
   ]
  },
  {
   "cell_type": "markdown",
   "id": "c8c7f5fd",
   "metadata": {},
   "source": [
    "* Just note that, these array broadcasting creates a change not only to the sliced variables, but also to the olriginal arrays"
   ]
  },
  {
   "cell_type": "markdown",
   "id": "505558dc",
   "metadata": {},
   "source": [
    "* Now in order for me to copy an array,i can specify the keyname copy from numpy"
   ]
  },
  {
   "cell_type": "code",
   "execution_count": 83,
   "id": "4316bbd2",
   "metadata": {},
   "outputs": [],
   "source": [
    "arr_copy = arr.copy()"
   ]
  },
  {
   "cell_type": "code",
   "execution_count": 84,
   "id": "006fe71e",
   "metadata": {},
   "outputs": [
    {
     "data": {
      "text/plain": [
       "array([ 0, 70, 70, 70, 70,  5,  6,  7,  8,  9, 10, 20, 20, 20, 20, 20, 16,\n",
       "       17, 18, 19, 20])"
      ]
     },
     "execution_count": 84,
     "metadata": {},
     "output_type": "execute_result"
    }
   ],
   "source": [
    "arr_copy"
   ]
  },
  {
   "cell_type": "markdown",
   "id": "d3353cb6",
   "metadata": {},
   "source": [
    "* So normaly, the good thing about specifying the copy keyword, is that, even when i broadcas again, my original array, doesn't get affected "
   ]
  },
  {
   "cell_type": "code",
   "execution_count": 85,
   "id": "fecaca1d",
   "metadata": {},
   "outputs": [
    {
     "data": {
      "text/plain": [
       "array([ 0, 70, 70, 70, 70,  5,  6,  7,  8,  9, 10, 20, 20, 20, 20, 20, 16,\n",
       "       17, 18, 19, 20])"
      ]
     },
     "execution_count": 85,
     "metadata": {},
     "output_type": "execute_result"
    }
   ],
   "source": [
    "arr"
   ]
  },
  {
   "cell_type": "code",
   "execution_count": 86,
   "id": "f18cf3a3",
   "metadata": {},
   "outputs": [
    {
     "data": {
      "text/plain": [
       "array([ 0, 70, 70, 70, 70,  5,  6,  7,  8,  9, 10, 20, 20, 20, 20, 20, 16,\n",
       "       17, 18, 19, 20])"
      ]
     },
     "execution_count": 86,
     "metadata": {},
     "output_type": "execute_result"
    }
   ],
   "source": [
    "arr_copy"
   ]
  },
  {
   "cell_type": "markdown",
   "id": "fe555997",
   "metadata": {},
   "source": [
    "* Now am broadcasting to the copy of the original arr, and i need to see if the original array will get affected "
   ]
  },
  {
   "cell_type": "code",
   "execution_count": 87,
   "id": "100e59e7",
   "metadata": {},
   "outputs": [],
   "source": [
    "arr_copy[:]=100"
   ]
  },
  {
   "cell_type": "code",
   "execution_count": 88,
   "id": "6c624a4a",
   "metadata": {},
   "outputs": [
    {
     "data": {
      "text/plain": [
       "array([100, 100, 100, 100, 100, 100, 100, 100, 100, 100, 100, 100, 100,\n",
       "       100, 100, 100, 100, 100, 100, 100, 100])"
      ]
     },
     "execution_count": 88,
     "metadata": {},
     "output_type": "execute_result"
    }
   ],
   "source": [
    "arr_copy"
   ]
  },
  {
   "cell_type": "markdown",
   "id": "e151f955",
   "metadata": {},
   "source": [
    "* Now, let's check the original copy"
   ]
  },
  {
   "cell_type": "code",
   "execution_count": null,
   "id": "f7bd996a",
   "metadata": {},
   "outputs": [],
   "source": []
  },
  {
   "cell_type": "markdown",
   "id": "2b94dc21",
   "metadata": {},
   "source": [
    "### Indexing a 2-D array using numpy arrays "
   ]
  },
  {
   "cell_type": "code",
   "execution_count": 89,
   "id": "d3a3027f",
   "metadata": {},
   "outputs": [],
   "source": [
    "import numpy as np"
   ]
  },
  {
   "cell_type": "code",
   "execution_count": 90,
   "id": "b92abf6d",
   "metadata": {},
   "outputs": [],
   "source": [
    "arr_2d = np.array([[1,2,3],[4,5,6],[70,23,45]])"
   ]
  },
  {
   "cell_type": "code",
   "execution_count": 91,
   "id": "9fe9b7b5",
   "metadata": {},
   "outputs": [
    {
     "data": {
      "text/plain": [
       "array([[ 1,  2,  3],\n",
       "       [ 4,  5,  6],\n",
       "       [70, 23, 45]])"
      ]
     },
     "execution_count": 91,
     "metadata": {},
     "output_type": "execute_result"
    }
   ],
   "source": [
    "arr_2d"
   ]
  },
  {
   "cell_type": "markdown",
   "id": "ad9c7944",
   "metadata": {},
   "source": [
    "* now, i want to grab a digit 5"
   ]
  },
  {
   "cell_type": "code",
   "execution_count": 93,
   "id": "db38069f",
   "metadata": {},
   "outputs": [
    {
     "data": {
      "text/plain": [
       "1"
      ]
     },
     "execution_count": 93,
     "metadata": {},
     "output_type": "execute_result"
    }
   ],
   "source": [
    "arr_2d[0][0]"
   ]
  },
  {
   "cell_type": "code",
   "execution_count": 94,
   "id": "7b08b4ac",
   "metadata": {},
   "outputs": [
    {
     "data": {
      "text/plain": [
       "5"
      ]
     },
     "execution_count": 94,
     "metadata": {},
     "output_type": "execute_result"
    }
   ],
   "source": [
    "arr_2d[1][1]"
   ]
  },
  {
   "cell_type": "code",
   "execution_count": 95,
   "id": "b16aadac",
   "metadata": {},
   "outputs": [
    {
     "data": {
      "text/plain": [
       "45"
      ]
     },
     "execution_count": 95,
     "metadata": {},
     "output_type": "execute_result"
    }
   ],
   "source": [
    "arr_2d[2][2]"
   ]
  },
  {
   "cell_type": "markdown",
   "id": "aa72d9e8",
   "metadata": {},
   "source": [
    "* Now, the recomended way, of accessing elements in multi-dimensional array, is by using single bracket notation "
   ]
  },
  {
   "cell_type": "markdown",
   "id": "9538779d",
   "metadata": {},
   "source": [
    "* So for example, like the last example with double bracket notation"
   ]
  },
  {
   "cell_type": "code",
   "execution_count": 96,
   "id": "380e63f7",
   "metadata": {},
   "outputs": [
    {
     "data": {
      "text/plain": [
       "45"
      ]
     },
     "execution_count": 96,
     "metadata": {},
     "output_type": "execute_result"
    }
   ],
   "source": [
    "arr_2d[2,2]"
   ]
  },
  {
   "cell_type": "code",
   "execution_count": null,
   "id": "ce7a70e6",
   "metadata": {},
   "outputs": [],
   "source": []
  },
  {
   "cell_type": "markdown",
   "id": "a9ca0f3e",
   "metadata": {},
   "source": [
    "#### sub matrixes of the array"
   ]
  },
  {
   "cell_type": "code",
   "execution_count": 98,
   "id": "ca60fcd0",
   "metadata": {},
   "outputs": [
    {
     "data": {
      "text/plain": [
       "array([[ 1,  2,  3],\n",
       "       [ 4,  5,  6],\n",
       "       [70, 23, 45]])"
      ]
     },
     "execution_count": 98,
     "metadata": {},
     "output_type": "execute_result"
    }
   ],
   "source": [
    "arr_2d"
   ]
  },
  {
   "cell_type": "markdown",
   "id": "8b42f70a",
   "metadata": {},
   "source": [
    "* Now we want to grab element up to the second row, and you want only the values of the second and third columns"
   ]
  },
  {
   "cell_type": "code",
   "execution_count": 100,
   "id": "23f7212e",
   "metadata": {},
   "outputs": [
    {
     "data": {
      "text/plain": [
       "array([[2, 3],\n",
       "       [5, 6]])"
      ]
     },
     "execution_count": 100,
     "metadata": {},
     "output_type": "execute_result"
    }
   ],
   "source": [
    "arr_2d[:2,1:]"
   ]
  },
  {
   "cell_type": "markdown",
   "id": "f12f6f33",
   "metadata": {},
   "source": [
    "* Where the first argement deals with the selection of the rows,and the second argument deals with the selection of the columns in the arr_2d matrix"
   ]
  },
  {
   "cell_type": "markdown",
   "id": "dbdc9d99",
   "metadata": {},
   "source": [
    "* Now incase we want to grab the from the second row going downwards, what we do is:\n",
    "    "
   ]
  },
  {
   "cell_type": "code",
   "execution_count": 103,
   "id": "e5df6d26",
   "metadata": {},
   "outputs": [
    {
     "data": {
      "text/plain": [
       "array([[ 4,  5,  6],\n",
       "       [70, 23, 45]])"
      ]
     },
     "execution_count": 103,
     "metadata": {},
     "output_type": "execute_result"
    }
   ],
   "source": [
    "arr_2d[1:]"
   ]
  },
  {
   "cell_type": "code",
   "execution_count": 104,
   "id": "2f322a11",
   "metadata": {},
   "outputs": [
    {
     "data": {
      "text/plain": [
       "array([[1, 2, 3],\n",
       "       [4, 5, 6]])"
      ]
     },
     "execution_count": 104,
     "metadata": {},
     "output_type": "execute_result"
    }
   ],
   "source": [
    "arr_2d[:2]"
   ]
  },
  {
   "cell_type": "code",
   "execution_count": null,
   "id": "932cd949",
   "metadata": {},
   "outputs": [],
   "source": []
  },
  {
   "cell_type": "code",
   "execution_count": null,
   "id": "b1917f34",
   "metadata": {},
   "outputs": [],
   "source": []
  },
  {
   "cell_type": "markdown",
   "id": "c9184565",
   "metadata": {},
   "source": [
    "## Conditional selection"
   ]
  },
  {
   "cell_type": "markdown",
   "id": "07d8652b",
   "metadata": {},
   "source": [
    "* Now i'll create a single dimension array, a simple one ofcourse"
   ]
  },
  {
   "cell_type": "code",
   "execution_count": 105,
   "id": "99e4e9e8",
   "metadata": {},
   "outputs": [],
   "source": [
    "array = np.arange(1,11)"
   ]
  },
  {
   "cell_type": "code",
   "execution_count": 107,
   "id": "b6ea3cc0",
   "metadata": {},
   "outputs": [
    {
     "data": {
      "text/plain": [
       "array([ 1,  2,  3,  4,  5,  6,  7,  8,  9, 10])"
      ]
     },
     "execution_count": 107,
     "metadata": {},
     "output_type": "execute_result"
    }
   ],
   "source": [
    "array"
   ]
  },
  {
   "cell_type": "markdown",
   "id": "9967b0f7",
   "metadata": {},
   "source": [
    "* Now we can compare this whole list by passing to conditional operators and return some boolean values"
   ]
  },
  {
   "cell_type": "code",
   "execution_count": 108,
   "id": "da2780a3",
   "metadata": {},
   "outputs": [
    {
     "data": {
      "text/plain": [
       "array([False, False, False, False, False,  True,  True,  True,  True,\n",
       "        True])"
      ]
     },
     "execution_count": 108,
     "metadata": {},
     "output_type": "execute_result"
    }
   ],
   "source": [
    "array>5"
   ]
  },
  {
   "cell_type": "markdown",
   "id": "11d51bfe",
   "metadata": {},
   "source": [
    "* we can also store the produced boolean array. Let's try that "
   ]
  },
  {
   "cell_type": "code",
   "execution_count": 112,
   "id": "db4ffbc2",
   "metadata": {},
   "outputs": [],
   "source": [
    "bool_array = array>5"
   ]
  },
  {
   "cell_type": "code",
   "execution_count": 113,
   "id": "247c3f21",
   "metadata": {},
   "outputs": [
    {
     "data": {
      "text/plain": [
       "array([False, False, False, False, False,  True,  True,  True,  True,\n",
       "        True])"
      ]
     },
     "execution_count": 113,
     "metadata": {},
     "output_type": "execute_result"
    }
   ],
   "source": [
    "bool_array"
   ]
  },
  {
   "cell_type": "markdown",
   "id": "dd9af4ee",
   "metadata": {},
   "source": [
    "* In order to get what happened to be true, we can pass the boolean array, within the original array "
   ]
  },
  {
   "cell_type": "code",
   "execution_count": 114,
   "id": "7736308b",
   "metadata": {},
   "outputs": [
    {
     "data": {
      "text/plain": [
       "array([ 6,  7,  8,  9, 10])"
      ]
     },
     "execution_count": 114,
     "metadata": {},
     "output_type": "execute_result"
    }
   ],
   "source": [
    "array[bool_array]"
   ]
  },
  {
   "cell_type": "markdown",
   "id": "5fb3b260",
   "metadata": {},
   "source": [
    "* alternatively, we can do it in one line of code "
   ]
  },
  {
   "cell_type": "code",
   "execution_count": 115,
   "id": "a50be886",
   "metadata": {},
   "outputs": [
    {
     "data": {
      "text/plain": [
       "array([1, 2, 3, 4, 5, 6, 7, 8])"
      ]
     },
     "execution_count": 115,
     "metadata": {},
     "output_type": "execute_result"
    }
   ],
   "source": [
    "array[array<9]"
   ]
  },
  {
   "cell_type": "markdown",
   "id": "3eb85116",
   "metadata": {},
   "source": [
    "* The above method will work, but the only disadvantage is that,you wont be able to have the boolean array no more "
   ]
  },
  {
   "cell_type": "code",
   "execution_count": null,
   "id": "18071239",
   "metadata": {},
   "outputs": [],
   "source": []
  },
  {
   "cell_type": "markdown",
   "id": "9ae983c1",
   "metadata": {},
   "source": [
    "### Simple indexing and selection exercise "
   ]
  },
  {
   "cell_type": "code",
   "execution_count": 116,
   "id": "ecf3054b",
   "metadata": {},
   "outputs": [],
   "source": [
    "arr_d = np.arange(50).reshape(5,10)"
   ]
  },
  {
   "cell_type": "code",
   "execution_count": 121,
   "id": "a587cbb3",
   "metadata": {},
   "outputs": [
    {
     "data": {
      "text/plain": [
       "array([[ 0,  1,  2,  3,  4,  5,  6,  7,  8,  9],\n",
       "       [10, 11, 12, 13, 14, 15, 16, 17, 18, 19],\n",
       "       [20, 21, 22, 23, 24, 25, 26, 27, 28, 29],\n",
       "       [30, 31, 32, 33, 34, 35, 36, 37, 38, 39],\n",
       "       [40, 41, 42, 43, 44, 45, 46, 47, 48, 49]])"
      ]
     },
     "execution_count": 121,
     "metadata": {},
     "output_type": "execute_result"
    }
   ],
   "source": [
    "arr_d"
   ]
  },
  {
   "cell_type": "code",
   "execution_count": 119,
   "id": "06a9ce32",
   "metadata": {},
   "outputs": [
    {
     "data": {
      "text/plain": [
       "array([12, 13, 14, 15, 16])"
      ]
     },
     "execution_count": 119,
     "metadata": {},
     "output_type": "execute_result"
    }
   ],
   "source": [
    "arr_d[1,2:7]"
   ]
  },
  {
   "cell_type": "code",
   "execution_count": 120,
   "id": "96f4915b",
   "metadata": {},
   "outputs": [
    {
     "data": {
      "text/plain": [
       "array([[ 2,  3,  4,  5],\n",
       "       [12, 13, 14, 15],\n",
       "       [22, 23, 24, 25],\n",
       "       [32, 33, 34, 35]])"
      ]
     },
     "execution_count": 120,
     "metadata": {},
     "output_type": "execute_result"
    }
   ],
   "source": [
    "arr_d[:4,2:6]"
   ]
  },
  {
   "cell_type": "code",
   "execution_count": null,
   "id": "0a303c0c",
   "metadata": {},
   "outputs": [],
   "source": []
  },
  {
   "cell_type": "code",
   "execution_count": null,
   "id": "cfa1d67e",
   "metadata": {},
   "outputs": [],
   "source": []
  },
  {
   "cell_type": "code",
   "execution_count": null,
   "id": "63713a94",
   "metadata": {},
   "outputs": [],
   "source": []
  },
  {
   "cell_type": "code",
   "execution_count": null,
   "id": "5c131da4",
   "metadata": {},
   "outputs": [],
   "source": []
  },
  {
   "cell_type": "markdown",
   "id": "7635af38",
   "metadata": {},
   "source": [
    "<h1 align = \"center\">NumPy Operations</h1>\n",
    "<ul align = \"center\">\n",
    "    <li> Arrays with Array </li>\n",
    "    <li> Arrays with Scalars </li>\n",
    "    <li> Universal Array functions </li>\n",
    "</ul>\n",
    "</div>"
   ]
  },
  {
   "cell_type": "code",
   "execution_count": 122,
   "id": "741c1473",
   "metadata": {},
   "outputs": [],
   "source": [
    "import numpy as np"
   ]
  },
  {
   "cell_type": "code",
   "execution_count": 123,
   "id": "94b43fe4",
   "metadata": {},
   "outputs": [],
   "source": [
    "arr = np.arange(0,11)"
   ]
  },
  {
   "cell_type": "code",
   "execution_count": 124,
   "id": "ea75b545",
   "metadata": {},
   "outputs": [
    {
     "data": {
      "text/plain": [
       "array([ 0,  1,  2,  3,  4,  5,  6,  7,  8,  9, 10])"
      ]
     },
     "execution_count": 124,
     "metadata": {},
     "output_type": "execute_result"
    }
   ],
   "source": [
    "arr"
   ]
  },
  {
   "cell_type": "markdown",
   "id": "376d48bb",
   "metadata": {},
   "source": [
    "### Array addition"
   ]
  },
  {
   "cell_type": "code",
   "execution_count": 126,
   "id": "eedda9fc",
   "metadata": {},
   "outputs": [],
   "source": [
    "total_array = arr+arr"
   ]
  },
  {
   "cell_type": "code",
   "execution_count": 127,
   "id": "575657d2",
   "metadata": {},
   "outputs": [
    {
     "data": {
      "text/plain": [
       "array([ 0,  2,  4,  6,  8, 10, 12, 14, 16, 18, 20])"
      ]
     },
     "execution_count": 127,
     "metadata": {},
     "output_type": "execute_result"
    }
   ],
   "source": [
    "total_array"
   ]
  },
  {
   "cell_type": "code",
   "execution_count": 130,
   "id": "fb27242c",
   "metadata": {},
   "outputs": [],
   "source": [
    "array_total_copy = np.copy(total_array)"
   ]
  },
  {
   "cell_type": "code",
   "execution_count": 131,
   "id": "5550c6be",
   "metadata": {},
   "outputs": [
    {
     "data": {
      "text/plain": [
       "array([ 0,  2,  4,  6,  8, 10, 12, 14, 16, 18, 20])"
      ]
     },
     "execution_count": 131,
     "metadata": {},
     "output_type": "execute_result"
    }
   ],
   "source": [
    "array_total_copy"
   ]
  },
  {
   "cell_type": "code",
   "execution_count": 132,
   "id": "e88e128e",
   "metadata": {},
   "outputs": [],
   "source": [
    "array_total_copy[:6] = 1"
   ]
  },
  {
   "cell_type": "code",
   "execution_count": 138,
   "id": "729276e5",
   "metadata": {},
   "outputs": [
    {
     "data": {
      "text/plain": [
       "array([ 1,  1,  1,  1,  1,  1, 12, 14, 16, 18, 20])"
      ]
     },
     "execution_count": 138,
     "metadata": {},
     "output_type": "execute_result"
    }
   ],
   "source": [
    "array_total_copy"
   ]
  },
  {
   "cell_type": "markdown",
   "id": "5792b25f",
   "metadata": {},
   "source": [
    "### Array subtraction"
   ]
  },
  {
   "cell_type": "markdown",
   "id": "384bce2f",
   "metadata": {},
   "source": [
    "* Now for array, substraction"
   ]
  },
  {
   "cell_type": "code",
   "execution_count": 136,
   "id": "851cc8d4",
   "metadata": {},
   "outputs": [
    {
     "data": {
      "text/plain": [
       "array([-1,  1,  3,  5,  7,  9,  0,  0,  0,  0,  0])"
      ]
     },
     "execution_count": 136,
     "metadata": {},
     "output_type": "execute_result"
    }
   ],
   "source": [
    "total_array - array_total_copy"
   ]
  },
  {
   "cell_type": "markdown",
   "id": "db4d8bc8",
   "metadata": {},
   "source": [
    "* Now we can see the above is the results of the results of the minus operator"
   ]
  },
  {
   "cell_type": "code",
   "execution_count": null,
   "id": "df102ba9",
   "metadata": {},
   "outputs": [],
   "source": []
  },
  {
   "cell_type": "markdown",
   "id": "076bef9b",
   "metadata": {},
   "source": [
    "### Array Multiplication"
   ]
  },
  {
   "cell_type": "code",
   "execution_count": 140,
   "id": "19923bd9",
   "metadata": {},
   "outputs": [
    {
     "data": {
      "text/plain": [
       "array([  0,   1,   4,   9,  16,  25,  36,  49,  64,  81, 100])"
      ]
     },
     "execution_count": 140,
     "metadata": {},
     "output_type": "execute_result"
    }
   ],
   "source": [
    "arr * arr"
   ]
  },
  {
   "cell_type": "markdown",
   "id": "b5d47a94",
   "metadata": {},
   "source": [
    "#### ---> Now  we want here the numbers are broadcasted in order to create multiples in a sequential manner"
   ]
  },
  {
   "cell_type": "markdown",
   "id": "b92cce63",
   "metadata": {},
   "source": [
    "* that is "
   ]
  },
  {
   "cell_type": "code",
   "execution_count": 141,
   "id": "a8a40727",
   "metadata": {},
   "outputs": [
    {
     "data": {
      "text/plain": [
       "array([   0,  100,  200,  300,  400,  500,  600,  700,  800,  900, 1000])"
      ]
     },
     "execution_count": 141,
     "metadata": {},
     "output_type": "execute_result"
    }
   ],
   "source": [
    "    arr * 100"
   ]
  },
  {
   "cell_type": "markdown",
   "id": "82554bd8",
   "metadata": {},
   "source": [
    "* Now we will store that answer to our new variable"
   ]
  },
  {
   "cell_type": "code",
   "execution_count": 145,
   "id": "064bc48c",
   "metadata": {},
   "outputs": [],
   "source": [
    "our_test = arr * 100"
   ]
  },
  {
   "cell_type": "code",
   "execution_count": 146,
   "id": "1802426f",
   "metadata": {},
   "outputs": [
    {
     "data": {
      "text/plain": [
       "array([   0,  100,  200,  300,  400,  500,  600,  700,  800,  900, 1000])"
      ]
     },
     "execution_count": 146,
     "metadata": {},
     "output_type": "execute_result"
    }
   ],
   "source": [
    "our_test"
   ]
  },
  {
   "cell_type": "code",
   "execution_count": 148,
   "id": "b6e24d95",
   "metadata": {},
   "outputs": [
    {
     "name": "stderr",
     "output_type": "stream",
     "text": [
      "<ipython-input-148-6fd5cb172bf9>:1: RuntimeWarning: invalid value encountered in true_divide\n",
      "  arr/our_test\n"
     ]
    },
    {
     "data": {
      "text/plain": [
       "array([ nan, 0.01, 0.01, 0.01, 0.01, 0.01, 0.01, 0.01, 0.01, 0.01, 0.01])"
      ]
     },
     "execution_count": 148,
     "metadata": {},
     "output_type": "execute_result"
    }
   ],
   "source": [
    "arr/our_test"
   ]
  },
  {
   "cell_type": "markdown",
   "id": "6c348cfb",
   "metadata": {},
   "source": [
    "* The man means ther is a ZeroDivisionError,but numpy doesn't give an error to us "
   ]
  },
  {
   "cell_type": "code",
   "execution_count": null,
   "id": "150f7fbb",
   "metadata": {},
   "outputs": [],
   "source": []
  },
  {
   "cell_type": "code",
   "execution_count": null,
   "id": "011f005c",
   "metadata": {},
   "outputs": [],
   "source": []
  },
  {
   "cell_type": "markdown",
   "id": "7366393f",
   "metadata": {},
   "source": [
    "\n",
    "<h2 align= \"center\"> Universal Array Functions </h2>"
   ]
  },
  {
   "cell_type": "markdown",
   "id": "9fc37112",
   "metadata": {},
   "source": [
    "#### The square root"
   ]
  },
  {
   "cell_type": "markdown",
   "id": "f3754301",
   "metadata": {},
   "source": [
    "* consider the following generated array"
   ]
  },
  {
   "cell_type": "code",
   "execution_count": 155,
   "id": "e367f8a7",
   "metadata": {},
   "outputs": [],
   "source": [
    "\n",
    "new_array= np.arange(40,70)"
   ]
  },
  {
   "cell_type": "code",
   "execution_count": 156,
   "id": "6f80a593",
   "metadata": {},
   "outputs": [
    {
     "data": {
      "text/plain": [
       "array([40, 41, 42, 43, 44, 45, 46, 47, 48, 49, 50, 51, 52, 53, 54, 55, 56,\n",
       "       57, 58, 59, 60, 61, 62, 63, 64, 65, 66, 67, 68, 69])"
      ]
     },
     "execution_count": 156,
     "metadata": {},
     "output_type": "execute_result"
    }
   ],
   "source": [
    "new_array"
   ]
  },
  {
   "cell_type": "code",
   "execution_count": 157,
   "id": "b420c444",
   "metadata": {},
   "outputs": [
    {
     "data": {
      "text/plain": [
       "array([6.32455532, 6.40312424, 6.4807407 , 6.55743852, 6.63324958,\n",
       "       6.70820393, 6.78232998, 6.8556546 , 6.92820323, 7.        ,\n",
       "       7.07106781, 7.14142843, 7.21110255, 7.28010989, 7.34846923,\n",
       "       7.41619849, 7.48331477, 7.54983444, 7.61577311, 7.68114575,\n",
       "       7.74596669, 7.81024968, 7.87400787, 7.93725393, 8.        ,\n",
       "       8.06225775, 8.1240384 , 8.18535277, 8.24621125, 8.30662386])"
      ]
     },
     "execution_count": 157,
     "metadata": {},
     "output_type": "execute_result"
    }
   ],
   "source": [
    "np.sqrt(new_array)"
   ]
  },
  {
   "cell_type": "markdown",
   "id": "ec5a40f4",
   "metadata": {},
   "source": [
    "#### The exponential that XP"
   ]
  },
  {
   "cell_type": "code",
   "execution_count": 158,
   "id": "e1fa21f5",
   "metadata": {},
   "outputs": [
    {
     "data": {
      "text/plain": [
       "array([2.35385267e+17, 6.39843494e+17, 1.73927494e+18, 4.72783947e+18,\n",
       "       1.28516001e+19, 3.49342711e+19, 9.49611942e+19, 2.58131289e+20,\n",
       "       7.01673591e+20, 1.90734657e+21, 5.18470553e+21, 1.40934908e+22,\n",
       "       3.83100800e+22, 1.04137594e+23, 2.83075330e+23, 7.69478527e+23,\n",
       "       2.09165950e+24, 5.68572000e+24, 1.54553894e+25, 4.20121040e+25,\n",
       "       1.14200739e+26, 3.10429794e+26, 8.43835667e+26, 2.29378316e+27,\n",
       "       6.23514908e+27, 1.69488924e+28, 4.60718663e+28, 1.25236317e+29,\n",
       "       3.40427605e+29, 9.25378173e+29])"
      ]
     },
     "execution_count": 158,
     "metadata": {},
     "output_type": "execute_result"
    }
   ],
   "source": [
    "np.exp(new_array)"
   ]
  },
  {
   "cell_type": "markdown",
   "id": "dec7bec9",
   "metadata": {},
   "source": [
    "#### For the max value "
   ]
  },
  {
   "cell_type": "code",
   "execution_count": 160,
   "id": "f4f5538d",
   "metadata": {},
   "outputs": [
    {
     "data": {
      "text/plain": [
       "69"
      ]
     },
     "execution_count": 160,
     "metadata": {},
     "output_type": "execute_result"
    }
   ],
   "source": [
    "new_array.max()"
   ]
  },
  {
   "cell_type": "markdown",
   "id": "8e1e3d7b",
   "metadata": {},
   "source": [
    "#### For min value"
   ]
  },
  {
   "cell_type": "code",
   "execution_count": 161,
   "id": "bfc9add6",
   "metadata": {},
   "outputs": [
    {
     "data": {
      "text/plain": [
       "40"
      ]
     },
     "execution_count": 161,
     "metadata": {},
     "output_type": "execute_result"
    }
   ],
   "source": [
    "new_array.min()"
   ]
  },
  {
   "cell_type": "markdown",
   "id": "299369ed",
   "metadata": {},
   "source": [
    "#### For Trig Functions"
   ]
  },
  {
   "cell_type": "code",
   "execution_count": 163,
   "id": "36658ed3",
   "metadata": {},
   "outputs": [
    {
     "data": {
      "text/plain": [
       "array([ 0.74511316, -0.15862267, -0.91652155, -0.83177474,  0.01770193,\n",
       "        0.85090352,  0.90178835,  0.12357312, -0.76825466, -0.95375265,\n",
       "       -0.26237485,  0.67022918,  0.98662759,  0.39592515, -0.55878905,\n",
       "       -0.99975517, -0.521551  ,  0.43616476,  0.99287265,  0.63673801,\n",
       "       -0.30481062, -0.96611777, -0.7391807 ,  0.1673557 ,  0.92002604,\n",
       "        0.82682868, -0.02655115, -0.85551998, -0.89792768, -0.11478481])"
      ]
     },
     "execution_count": 163,
     "metadata": {},
     "output_type": "execute_result"
    }
   ],
   "source": [
    "np.sin(new_array)"
   ]
  },
  {
   "cell_type": "code",
   "execution_count": 164,
   "id": "f5c01cd5",
   "metadata": {},
   "outputs": [
    {
     "data": {
      "text/plain": [
       "array([-0.66693806, -0.98733928, -0.39998531,  0.5551133 ,  0.99984331,\n",
       "        0.52532199, -0.43217794, -0.99233547, -0.64014434,  0.30059254,\n",
       "        0.96496603,  0.7421542 , -0.16299078, -0.91828279, -0.82930983,\n",
       "        0.02212676,  0.85322011,  0.89986683,  0.11918014, -0.77108022,\n",
       "       -0.95241298, -0.25810164,  0.67350716,  0.98589658,  0.39185723,\n",
       "       -0.56245385, -0.99964746, -0.5177698 ,  0.44014302,  0.99339038])"
      ]
     },
     "execution_count": 164,
     "metadata": {},
     "output_type": "execute_result"
    }
   ],
   "source": [
    "np.cos(new_array)"
   ]
  },
  {
   "cell_type": "code",
   "execution_count": 165,
   "id": "2618e630",
   "metadata": {},
   "outputs": [
    {
     "data": {
      "text/plain": [
       "array([-1.11721493e+00,  1.60656699e-01,  2.29138799e+00, -1.49838734e+00,\n",
       "        1.77046993e-02,  1.61977519e+00, -2.08661353e+00, -1.24527568e-01,\n",
       "        1.20012724e+00, -3.17290855e+00, -2.71900612e-01,  9.03086149e-01,\n",
       "       -6.05327238e+00, -4.31158197e-01,  6.73800101e-01, -4.51830879e+01,\n",
       "       -6.11273688e-01,  4.84699227e-01,  8.33085685e+00, -8.25774009e-01,\n",
       "        3.20040389e-01,  3.74316794e+00, -1.09750978e+00,  1.69749752e-01,\n",
       "        2.34786031e+00, -1.47003826e+00,  2.65605178e-02,  1.65231726e+00,\n",
       "       -2.04008160e+00, -1.15548546e-01])"
      ]
     },
     "execution_count": 165,
     "metadata": {},
     "output_type": "execute_result"
    }
   ],
   "source": [
    "np.tan(new_array)"
   ]
  },
  {
   "cell_type": "code",
   "execution_count": null,
   "id": "4c4e80d9",
   "metadata": {},
   "outputs": [],
   "source": []
  },
  {
   "cell_type": "code",
   "execution_count": null,
   "id": "0494a69d",
   "metadata": {},
   "outputs": [],
   "source": []
  }
 ],
 "metadata": {
  "kernelspec": {
   "display_name": "Python 3",
   "language": "python",
   "name": "python3"
  },
  "language_info": {
   "codemirror_mode": {
    "name": "ipython",
    "version": 3
   },
   "file_extension": ".py",
   "mimetype": "text/x-python",
   "name": "python",
   "nbconvert_exporter": "python",
   "pygments_lexer": "ipython3",
   "version": "3.8.8"
  }
 },
 "nbformat": 4,
 "nbformat_minor": 5
}
